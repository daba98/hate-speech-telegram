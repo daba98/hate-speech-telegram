{
 "cells": [
  {
   "cell_type": "code",
   "execution_count": 1,
   "metadata": {},
   "outputs": [],
   "source": [
    "import pymongo\n",
    "from sklearn.metrics import accuracy_score, f1_score, precision_score, recall_score, confusion_matrix\n",
    "import seaborn as sns\n",
    "import matplotlib.pyplot as plt"
   ]
  },
  {
   "cell_type": "markdown",
   "metadata": {},
   "source": [
    "# 1. Evaluate Classifiers on Hand-Labeled Data\n",
    "We have annotated 1149 of the Telegram messages by hand in order to be able to evaluate our classifiers on this dataset. Due to a lack of time and resources we did only a binary annotation, so we treat the fine-grained classifiers as binary classifiers in this evaluation."
   ]
  },
  {
   "cell_type": "code",
   "execution_count": 2,
   "metadata": {},
   "outputs": [],
   "source": [
    "client = pymongo.MongoClient(\"mongodb://localhost:27017/\")"
   ]
  },
  {
   "cell_type": "code",
   "execution_count": 3,
   "metadata": {},
   "outputs": [],
   "source": [
    "neutral_label = 0\n",
    "offensive_label = 1"
   ]
  },
  {
   "cell_type": "markdown",
   "metadata": {},
   "source": [
    "We get the labels of the annotated data from the dataset."
   ]
  },
  {
   "cell_type": "code",
   "execution_count": 4,
   "metadata": {},
   "outputs": [],
   "source": [
    "messages_collection = client.telegram.messages\n",
    "\n",
    "\n",
    "def get_annotated_messages():\n",
    "    query = {'gold_label': {'$exists': True}}\n",
    "    query_res = messages_collection.find(query, {\"hate_germeval_18\": 1, \"hate_germeval_19\": 1, \n",
    "                                                \"hate_germeval_1819\": 1, \"toxicity_score_preprocessed\": 1, \"toxicity_score\": 1,\n",
    "                                                \"hate_hasoc_2020\": 1, \"hate_hasoc_1920\": 1, \"hate_covid_2021\": 1, \n",
    "                                                \"gold_label\": 1, \"hate_germeval_18_task_2\": 1, 'hate_germeval_19_task_2': 1,\n",
    "                                                'hate_germeval_1819_task_2': 1, 'hate_hasoc_2020_task_2': 1, \n",
    "                                                'hate_hasoc_1920_task_2': 1})\n",
    "    messages = [msg for msg in query_res]\n",
    "    return messages"
   ]
  },
  {
   "cell_type": "code",
   "execution_count": 5,
   "metadata": {},
   "outputs": [
    {
     "name": "stdout",
     "output_type": "stream",
     "text": [
      "1149\n"
     ]
    }
   ],
   "source": [
    "annotated_messages = get_annotated_messages()\n",
    "print(len(annotated_messages))"
   ]
  },
  {
   "cell_type": "markdown",
   "metadata": {},
   "source": [
    "As the different classifiers have different labels, we define a helper function to get the label as a numeric value"
   ]
  },
  {
   "cell_type": "code",
   "execution_count": 5,
   "metadata": {},
   "outputs": [],
   "source": [
    "def get_label(msg, classifier):\n",
    "    if classifier == \"perspective_api\":\n",
    "        score = 0\n",
    "        if \"toxicity_score_preprocessed\" in msg:\n",
    "            score = msg['toxicity_score_preprocessed']\n",
    "        else:\n",
    "            score = msg['toxicity_score']\n",
    "        return offensive_label if score > 0.5 else neutral_label\n",
    "    \n",
    "    if classifier in [\"hate_germeval_18\", \"hate_germeval_19\", \"hate_germeval_1819\"]:\n",
    "        return offensive_label if msg[classifier]['label'] == 'OFFENSE' else neutral_label\n",
    "    \n",
    "    if classifier in [\"hate_hasoc_2020\", \"hate_hasoc_1920\"]:\n",
    "        return offensive_label if msg[classifier]['label'] == 'HOF' else neutral_label\n",
    "    \n",
    "    if classifier == \"hate_covid_2021\":\n",
    "        return offensive_label if msg[classifier]['label'] == 'abusive' else neutral_label\n",
    "    \n",
    "    if classifier in [\"hate_germeval_18_task_2\", \"hate_germeval_19_task_2\", \"hate_germeval_1819_task_2\"]:\n",
    "        return neutral_label if msg[classifier]['label'] == 'OTHER' else offensive_label\n",
    "    \n",
    "    if classifier in [\"hate_hasoc_2020_task_2\", \"hate_hasoc_1920_task_2\"]:\n",
    "        return neutral_label if msg[classifier]['label'] == 'NONE' else offensive_label"
   ]
  },
  {
   "cell_type": "code",
   "execution_count": 6,
   "metadata": {},
   "outputs": [],
   "source": [
    "def get_gold_label(msg):\n",
    "    return offensive_label if msg['gold_label'] == 'OFFENSIVE_ABUSIVE' else neutral_label"
   ]
  },
  {
   "cell_type": "markdown",
   "metadata": {},
   "source": [
    "For the statistics, let's see how many of the annotated messages are neutral and how many are offensive"
   ]
  },
  {
   "cell_type": "code",
   "execution_count": 8,
   "metadata": {},
   "outputs": [
    {
     "name": "stdout",
     "output_type": "stream",
     "text": [
      "Neutral messages:  968\n",
      "Offensive messages:  181\n"
     ]
    }
   ],
   "source": [
    "neutral_count = 0\n",
    "offensive_count = 0\n",
    "for msg in annotated_messages:\n",
    "    label = get_gold_label(msg)\n",
    "    if label == neutral_label:\n",
    "        neutral_count += 1\n",
    "    elif label == offensive_label:\n",
    "        offensive_count += 1\n",
    "print('Neutral messages: ', neutral_count)\n",
    "print('Offensive messages: ', offensive_count)"
   ]
  },
  {
   "cell_type": "markdown",
   "metadata": {},
   "source": [
    "Get the labels of each classifier for each message..."
   ]
  },
  {
   "cell_type": "code",
   "execution_count": 9,
   "metadata": {},
   "outputs": [],
   "source": [
    "gold_labels = []\n",
    "germeval_18 = []\n",
    "germeval_19 = []\n",
    "germeval_1819 = []\n",
    "hasoc_2020 = []\n",
    "hasoc_1920 = []\n",
    "covid = []\n",
    "perspective = []\n",
    "germeval_18_task_2 = []\n",
    "germeval_19_task_2 = []\n",
    "germeval_1819_task_2 = []\n",
    "hasoc_2020_task_2 = []\n",
    "hasoc_1920_task_2 = []\n",
    "for msg in annotated_messages:\n",
    "    gold_labels.append(get_gold_label(msg))\n",
    "    germeval_18.append(get_label(msg, 'hate_germeval_18'))\n",
    "    germeval_19.append(get_label(msg, 'hate_germeval_19'))\n",
    "    germeval_1819.append(get_label(msg, 'hate_germeval_1819'))\n",
    "    hasoc_2020.append(get_label(msg, 'hate_hasoc_2020'))\n",
    "    hasoc_1920.append(get_label(msg, 'hate_hasoc_1920'))\n",
    "    covid.append(get_label(msg, 'hate_covid_2021'))\n",
    "    perspective.append(get_label(msg, 'perspective_api'))\n",
    "    germeval_18_task_2.append(get_label(msg, 'hate_germeval_18_task_2'))\n",
    "    germeval_19_task_2.append(get_label(msg, 'hate_germeval_19_task_2'))\n",
    "    germeval_1819_task_2.append(get_label(msg, 'hate_germeval_1819_task_2'))\n",
    "    hasoc_2020_task_2.append(get_label(msg, 'hate_hasoc_2020_task_2'))\n",
    "    hasoc_1920_task_2.append(get_label(msg, 'hate_hasoc_1920_task_2'))"
   ]
  },
  {
   "cell_type": "code",
   "execution_count": 25,
   "metadata": {},
   "outputs": [],
   "source": [
    "def evaluate(gold_labels, classifier_labels):\n",
    "    print('Accuracy: ', accuracy_score(gold_labels, classifier_labels))\n",
    "    print('Precision: ', precision_score(gold_labels, classifier_labels, average=\"binary\"))\n",
    "    print('Recall: ', recall_score(gold_labels, classifier_labels, average=\"binary\"))\n",
    "    print('Macro F1 score: ', f1_score(gold_labels, classifier_labels, average=\"macro\"))\n",
    "    matrix = confusion_matrix(gold_labels, classifier_labels, normalize='true')\n",
    "    ticklabels = ['NEUTRAL', 'OFFENSIVE']\n",
    "    ax = sns.heatmap(matrix, cmap='rocket_r', annot=True, square=True,xticklabels=ticklabels\n",
    "                     , yticklabels=ticklabels)\n",
    "    figure = plt.gcf()\n",
    "    figure.set_size_inches(3, 3)\n",
    "    plt.show()"
   ]
  },
  {
   "cell_type": "markdown",
   "metadata": {},
   "source": [
    "Now we can evaluate our classifiers. We will compute the accuracy, the precision, the recall, the Macro F1 score and the confusion matrix."
   ]
  },
  {
   "cell_type": "code",
   "execution_count": 26,
   "metadata": {},
   "outputs": [
    {
     "name": "stdout",
     "output_type": "stream",
     "text": [
      "Accuracy:  0.7763272410791993\n",
      "Precision:  0.36428571428571427\n",
      "Recall:  0.56353591160221\n",
      "Macro F1 score:  0.6513071274134831\n"
     ]
    },
    {
     "data": {
      "image/png": "[encoded data removed]",
      "text/plain": [
       "<Figure size 216x216 with 2 Axes>"
      ]
     },
     "metadata": {
      "needs_background": "light"
     },
     "output_type": "display_data"
    }
   ],
   "source": [
    "evaluate(gold_labels, germeval_18)"
   ]
  },
  {
   "cell_type": "code",
   "execution_count": 27,
   "metadata": {},
   "outputs": [
    {
     "name": "stdout",
     "output_type": "stream",
     "text": [
      "Accuracy:  0.6919060052219321\n",
      "Precision:  0.3115468409586057\n",
      "Recall:  0.7900552486187845\n",
      "Macro F1 score:  0.6166823733413751\n"
     ]
    },
    {
     "data": {
      "image/png": "[encoded data removed]",
      "text/plain": [
       "<Figure size 216x216 with 2 Axes>"
      ]
     },
     "metadata": {
      "needs_background": "light"
     },
     "output_type": "display_data"
    }
   ],
   "source": [
    "evaluate(gold_labels, germeval_19)"
   ]
  },
  {
   "cell_type": "code",
   "execution_count": 28,
   "metadata": {},
   "outputs": [
    {
     "name": "stdout",
     "output_type": "stream",
     "text": [
      "Accuracy:  0.8268059181897301\n",
      "Precision:  0.4594594594594595\n",
      "Recall:  0.56353591160221\n",
      "Macro F1 score:  0.7005951406666362\n"
     ]
    },
    {
     "data": {
      "image/png": "[encoded data removed]",
      "text/plain": [
       "<Figure size 216x216 with 2 Axes>"
      ]
     },
     "metadata": {
      "needs_background": "light"
     },
     "output_type": "display_data"
    }
   ],
   "source": [
    "evaluate(gold_labels, germeval_1819)"
   ]
  },
  {
   "cell_type": "code",
   "execution_count": 29,
   "metadata": {},
   "outputs": [
    {
     "name": "stdout",
     "output_type": "stream",
     "text": [
      "Accuracy:  0.8302872062663186\n",
      "Precision:  0.45569620253164556\n",
      "Recall:  0.39779005524861877\n",
      "Macro F1 score:  0.6626190895661955\n"
     ]
    },
    {
     "data": {
      "image/png": "[encoded data removed]",
      "text/plain": [
       "<Figure size 216x216 with 2 Axes>"
      ]
     },
     "metadata": {
      "needs_background": "light"
     },
     "output_type": "display_data"
    }
   ],
   "source": [
    "evaluate(gold_labels, hasoc_2020)"
   ]
  },
  {
   "cell_type": "code",
   "execution_count": 30,
   "metadata": {},
   "outputs": [
    {
     "name": "stdout",
     "output_type": "stream",
     "text": [
      "Accuracy:  0.8407310704960835\n",
      "Precision:  0.49390243902439024\n",
      "Recall:  0.44751381215469616\n",
      "Macro F1 score:  0.6879316102317505\n"
     ]
    },
    {
     "data": {
      "image/png": "[encoded data removed]",
      "text/plain": [
       "<Figure size 216x216 with 2 Axes>"
      ]
     },
     "metadata": {
      "needs_background": "light"
     },
     "output_type": "display_data"
    }
   ],
   "source": [
    "evaluate(gold_labels, hasoc_1920)"
   ]
  },
  {
   "cell_type": "code",
   "execution_count": 31,
   "metadata": {},
   "outputs": [
    {
     "name": "stdout",
     "output_type": "stream",
     "text": [
      "Accuracy:  0.8215839860748477\n",
      "Precision:  0.4562043795620438\n",
      "Recall:  0.6906077348066298\n",
      "Macro F1 score:  0.7191094309922308\n"
     ]
    },
    {
     "data": {
      "image/png": "[encoded data removed]",
      "text/plain": [
       "<Figure size 216x216 with 2 Axes>"
      ]
     },
     "metadata": {
      "needs_background": "light"
     },
     "output_type": "display_data"
    }
   ],
   "source": [
    "evaluate(gold_labels, covid)"
   ]
  },
  {
   "cell_type": "code",
   "execution_count": 32,
   "metadata": {},
   "outputs": [
    {
     "name": "stdout",
     "output_type": "stream",
     "text": [
      "Accuracy:  0.7841601392515231\n",
      "Precision:  0.40233236151603496\n",
      "Recall:  0.7624309392265194\n",
      "Macro F1 score:  0.6934602442403848\n"
     ]
    },
    {
     "data": {
      "image/png": "[encoded data removed]",
      "text/plain": [
       "<Figure size 216x216 with 2 Axes>"
      ]
     },
     "metadata": {
      "needs_background": "light"
     },
     "output_type": "display_data"
    }
   ],
   "source": [
    "evaluate(gold_labels, perspective)"
   ]
  },
  {
   "cell_type": "code",
   "execution_count": 33,
   "metadata": {},
   "outputs": [
    {
     "name": "stdout",
     "output_type": "stream",
     "text": [
      "Accuracy:  0.8285465622280244\n",
      "Precision:  0.4574468085106383\n",
      "Recall:  0.47513812154696133\n",
      "Macro F1 score:  0.6819996038218548\n"
     ]
    },
    {
     "data": {
      "image/png": "[encoded data removed]",
      "text/plain": [
       "<Figure size 216x216 with 2 Axes>"
      ]
     },
     "metadata": {
      "needs_background": "light"
     },
     "output_type": "display_data"
    }
   ],
   "source": [
    "evaluate(gold_labels, germeval_18_task_2)"
   ]
  },
  {
   "cell_type": "code",
   "execution_count": 34,
   "metadata": {},
   "outputs": [
    {
     "name": "stdout",
     "output_type": "stream",
     "text": [
      "Accuracy:  0.7615317667536988\n",
      "Precision:  0.36443148688046645\n",
      "Recall:  0.6906077348066298\n",
      "Macro F1 score:  0.6613230117817155\n"
     ]
    },
    {
     "data": {
      "image/png": "[encoded data removed]",
      "text/plain": [
       "<Figure size 216x216 with 2 Axes>"
      ]
     },
     "metadata": {
      "needs_background": "light"
     },
     "output_type": "display_data"
    }
   ],
   "source": [
    "evaluate(gold_labels, germeval_19_task_2)"
   ]
  },
  {
   "cell_type": "code",
   "execution_count": 35,
   "metadata": {},
   "outputs": [
    {
     "name": "stdout",
     "output_type": "stream",
     "text": [
      "Accuracy:  0.8215839860748477\n",
      "Precision:  0.4423076923076923\n",
      "Recall:  0.5082872928176796\n",
      "Macro F1 score:  0.6828108230395595\n"
     ]
    },
    {
     "data": {
      "image/png": "[encoded data removed]",
      "text/plain": [
       "<Figure size 216x216 with 2 Axes>"
      ]
     },
     "metadata": {
      "needs_background": "light"
     },
     "output_type": "display_data"
    }
   ],
   "source": [
    "evaluate(gold_labels, germeval_1819_task_2)"
   ]
  },
  {
   "cell_type": "code",
   "execution_count": 36,
   "metadata": {},
   "outputs": [
    {
     "name": "stdout",
     "output_type": "stream",
     "text": [
      "Accuracy:  0.8067885117493473\n",
      "Precision:  0.41350210970464135\n",
      "Recall:  0.5414364640883977\n",
      "Macro F1 score:  0.6754072075740608\n"
     ]
    },
    {
     "data": {
      "image/png": "[encoded data removed]",
      "text/plain": [
       "<Figure size 216x216 with 2 Axes>"
      ]
     },
     "metadata": {
      "needs_background": "light"
     },
     "output_type": "display_data"
    }
   ],
   "source": [
    "evaluate(gold_labels, hasoc_2020_task_2)"
   ]
  },
  {
   "cell_type": "code",
   "execution_count": 37,
   "metadata": {},
   "outputs": [
    {
     "name": "stdout",
     "output_type": "stream",
     "text": [
      "Accuracy:  0.8476936466492603\n",
      "Precision:  0.515\n",
      "Recall:  0.569060773480663\n",
      "Macro F1 score:  0.7246969715640005\n"
     ]
    },
    {
     "data": {
      "image/png": "[encoded data removed]",
      "text/plain": [
       "<Figure size 216x216 with 2 Axes>"
      ]
     },
     "metadata": {
      "needs_background": "light"
     },
     "output_type": "display_data"
    }
   ],
   "source": [
    "evaluate(gold_labels, hasoc_1920_task_2)"
   ]
  },
  {
   "cell_type": "markdown",
   "metadata": {},
   "source": [
    "Now let's see how a ensemble model would perform"
   ]
  },
  {
   "cell_type": "code",
   "execution_count": 38,
   "metadata": {},
   "outputs": [],
   "source": [
    "majority_vote = []\n",
    "for i in range(len(gold_labels)):\n",
    "    label_sum = germeval_18[i] + germeval_19[i] + germeval_1819[i] + hasoc_2020[i] + hasoc_1920[i] + covid[i] + germeval_18_task_2[i] + germeval_19_task_2[i] + germeval_1819_task_2[i] + hasoc_2020_task_2[i] + hasoc_1920_task_2[i]\n",
    "    label = offensive_label if label_sum > 5 else neutral_label\n",
    "    majority_vote.append(label)"
   ]
  },
  {
   "cell_type": "code",
   "execution_count": 39,
   "metadata": {},
   "outputs": [
    {
     "name": "stdout",
     "output_type": "stream",
     "text": [
      "Accuracy:  0.8511749347258486\n",
      "Precision:  0.5240384615384616\n",
      "Recall:  0.6022099447513812\n",
      "Macro F1 score:  0.735417808486657\n"
     ]
    },
    {
     "data": {
      "image/png": "[encoded data removed]",
      "text/plain": [
       "<Figure size 216x216 with 2 Axes>"
      ]
     },
     "metadata": {
      "needs_background": "light"
     },
     "output_type": "display_data"
    }
   ],
   "source": [
    "evaluate(gold_labels, majority_vote)"
   ]
  },
  {
   "cell_type": "markdown",
   "metadata": {},
   "source": [
    "# 2. Performance on long messages\n",
    "Let's see if the splitting of long messages had any influence on the performance of the classifiers. We will filter those messages out of the annotated ones, that were split due to their large number of tokens. Then we will evaluate the classifiers only on those messages."
   ]
  },
  {
   "cell_type": "code",
   "execution_count": 7,
   "metadata": {},
   "outputs": [],
   "source": [
    "query = {'gold_label': {'$exists': True}}\n",
    "query_res = messages_collection.find(query, {'text': 1, 'link_preview_title': 1, 'link_preview': 1})\n",
    "messages = [msg for msg in query_res]"
   ]
  },
  {
   "cell_type": "markdown",
   "metadata": {},
   "source": [
    "We did some preprocessing before the splitting so we have to do the same preprocessing here. The next cell is the preprocessing.py file in the helper directory."
   ]
  },
  {
   "cell_type": "code",
   "execution_count": 9,
   "metadata": {},
   "outputs": [
    {
     "name": "stderr",
     "output_type": "stream",
     "text": [
      "/home/ubuntu/anaconda3/lib/python3.8/site-packages/gensim/similarities/__init__.py:15: UserWarning: The gensim.similarities.levenshtein submodule is disabled, because the optional Levenshtein package <https://pypi.org/project/python-Levenshtein/> is unavailable. Install Levenhstein (e.g. `pip install python-Levenshtein`) to suppress this warning.\n",
      "  warnings.warn(msg)\n"
     ]
    },
    {
     "name": "stdout",
     "output_type": "stream",
     "text": [
      "Reading twitter - 1grams ...\n"
     ]
    },
    {
     "name": "stderr",
     "output_type": "stream",
     "text": [
      "/home/ubuntu/anaconda3/lib/python3.8/site-packages/ekphrasis/classes/tokenizer.py:225: FutureWarning: Possible nested set at position 2190\n",
      "  self.tok = re.compile(r\"({})\".format(\"|\".join(pipeline)))\n",
      "/home/ubuntu/anaconda3/lib/python3.8/site-packages/ekphrasis/classes/exmanager.py:14: FutureWarning: Possible nested set at position 42\n",
      "  regexes = {k.lower(): re.compile(self.expressions[k]) for k, v in\n"
     ]
    }
   ],
   "source": [
    "import emoji\n",
    "import numpy as np\n",
    "import re\n",
    "from langdetect import detect\n",
    "import pandas as pd \n",
    "import gensim\n",
    "\n",
    "from nltk.corpus import stopwords\n",
    "stop_words_ger = stopwords.words('german')\n",
    "stop_words_en = stopwords.words('english')\n",
    "\n",
    "from ekphrasis.classes.preprocessor import TextPreProcessor\n",
    "from ekphrasis.classes.tokenizer import SocialTokenizer\n",
    "from ekphrasis.dicts.emoticons import emoticons\n",
    "\n",
    "import spacy\n",
    "nlp = spacy.load(\"de_core_news_sm\")\n",
    "\n",
    "def prepare_single_text(text):\n",
    "\n",
    "    text = remove_hand_selected_words(text)    \n",
    "    text = rermove_repeating_chars(text)\n",
    "    text = emoji_2_text(text)\n",
    "    text= \" \".join(tw_process.pre_process_doc(text))\n",
    "    text = remove_special_chars(text)\n",
    "    #text = text.lower()\n",
    "    text = remove_white_spaces(text)\n",
    "\n",
    "    return(text)\n",
    "\n",
    "def prepare_single_text_without_ekphrasis(text):\n",
    "\n",
    "    text = remove_hand_selected_words(text)    \n",
    "    text = rermove_repeating_chars(text)\n",
    "    text = emoji_2_text(text)\n",
    "    text= remove_usernames(text)\n",
    "    text = remove_URLs(text)\n",
    "    text = remove_special_chars(text)\n",
    "    #text = text.lower()\n",
    "    text = remove_white_spaces(text)\n",
    "\n",
    "    return(text)\n",
    "\n",
    "\n",
    "def remove_usernames(string):\n",
    "    return re.sub('@\\S+', '<name>', string)\t\n",
    "\n",
    "def remove_URLs(string):\n",
    "    return re.sub('http[s]?://\\S+', '<url>', string)\n",
    "\n",
    "def get_text_processor():\n",
    "    return(TextPreProcessor(\n",
    "        normalize=['url', 'email', 'percent', 'money', 'phone', 'user', 'time', 'url', 'date', 'number'],\n",
    "        \n",
    "        segmenter=\"twitter\", \n",
    "        corrector=\"twitter\", \n",
    "        \n",
    "        fix_html=True,  # fix HTML tokens\n",
    "\n",
    "        unpack_hashtags=False,  # perform word segmentation on hashtags\n",
    "        unpack_contractions=False,  # Unpack contractions (can't -> can not)\n",
    "        spell_correct_elong=False,  # spell correction for elongated words\n",
    "\n",
    "        tokenizer=SocialTokenizer(lowercase=False).tokenize,\n",
    "        dicts=[emoticons]\n",
    "    ))\n",
    "tw_process = get_text_processor()\n",
    "\n",
    "def remove_numbers(s):\n",
    "    return(re.sub(\" \\d+\", \" \", s))\n",
    "\n",
    "def lemmatize_tokens(tokens):\n",
    "    txt = \" \".join(tokens)\n",
    "    doc = nlp(txt)\n",
    "    return([token.lemma_ for token in doc])\n",
    "\n",
    "def keepOnlyNounsAndNE(tokens):\n",
    "    txt = \" \".join(tokens)\n",
    "    doc = nlp(txt)\n",
    "    \n",
    "    keep = [str(w) for w in list(doc.ents)]\n",
    "    for w in doc:\n",
    "        if w.pos_ in ['NOUN']:\n",
    "            keep.append(str(w.text))\n",
    "    return([w for w in tokens if w in keep])\n",
    " \n",
    "def make_bigrams(texts,bigram_mod):\n",
    "    return [bigram_mod[doc] for doc in texts]\n",
    "\n",
    "def make_trigrams(texts):\n",
    "    return [trigram_mod[bigram_mod[doc]] for doc in texts]\n",
    "\n",
    "def build_N_grams(text,threshold):\n",
    "    # Build the bigram and trigram models\n",
    "    bigram = gensim.models.Phrases(text, min_count=5, threshold=threshold) # higher threshold fewer phrases.\n",
    "    trigram = gensim.models.Phrases(bigram[text], threshold=threshold)  \n",
    "\n",
    "    # Faster way to get a sentence clubbed as a trigram/bigram\n",
    "    bigram_mod = gensim.models.phrases.Phraser(bigram)\n",
    "    trigram_mod = gensim.models.phrases.Phraser(trigram)\n",
    "\n",
    "    data_words_bigrams = make_bigrams(text, bigram_mod)\n",
    "    return(data_words_bigrams)\n",
    "\n",
    "def remove_stopwords(tweet):\n",
    "    txt = []\n",
    "    for w in tweet:\n",
    "        if w in stop_words_ger:\n",
    "            continue\n",
    "            \n",
    "        if w in stop_words_en:\n",
    "            continue\n",
    "        txt.append(w)\n",
    "\n",
    "    return(txt)\n",
    "\n",
    "def remove_hand_selected_words(text):\n",
    "    return(re.sub(r\"\\|lbr\\||\\|LBR\\||\\|AMP\\||&gt;|&amp;\", \" \", text))\n",
    "\n",
    "def rermove_repeating_chars(text):\n",
    "    to_remove = \".,?!\"\n",
    "    return(re.sub(\"(?P<char>[\" + re.escape(to_remove) + \"])(?P=char)+\", r\"\\1\", text))\n",
    "\n",
    "from emoji import EMOJI_UNICODE, UNICODE_EMOJI\n",
    "UNICODE_EMOJI = {v.encode('unicode-escape').decode().replace(\"\\\\\", \"\").lower(): \"<\"+k.replace(\":\",\"\").replace('-','')+\">\" for k, v in EMOJI_UNICODE['en'].items()}\n",
    "\n",
    "def emoji_2_text(text):\n",
    "    \n",
    "    text = emoji.demojize(text, delimiters=(\"<\",\">\"))\n",
    "    re_matches = re.findall(r\"(<U\\+[0-9a-zA-Z]*>)\", text)\n",
    "    \n",
    "     \n",
    "    for emoji_unicode in re_matches:\n",
    "        try:\n",
    "            text = text.replace(emoji_unicode, UNICODE_EMOJI[re.sub('[<>+]', '', emoji_unicode).lower()])\n",
    "        except:\n",
    "            text = text.replace(emoji_unicode,\"\")\n",
    "    \n",
    "        text = text.replace(emoji_unicode,\"\")\n",
    "        \n",
    "    m = re.search('<[a-z_-]*(-)[a-z_-]*>',text)\n",
    "    if m is not None:\n",
    "        old_emoji = m.group(0)\n",
    "        new_emoji = m.group(0).replace('-','_')\n",
    "        text = text.replace(old_emoji,new_emoji)\n",
    "    return(text)\n",
    "\n",
    "def remove_special_chars(text):\n",
    "    return(re.sub(r\"[^A-Za-z0-9\\säüßöÖÄÜ<>_:!?.,\\-]+\", \" \", text))\n",
    "\n",
    "def detect_language(tw):\n",
    "    try:\n",
    "        return(detect(tw))\n",
    "    except:\n",
    "        return(\"unk\")\n",
    "    \n",
    "def sentence_to_token(text):\n",
    "    return([w.strip() for w in text.split()])\n",
    "\n",
    "def token_to_sentence(token):\n",
    "    return(\" \".join([w.strip() for w in token]))\n",
    "\n",
    "def remove_white_spaces(text):\n",
    "    return(\" \".join(text.split()))"
   ]
  },
  {
   "cell_type": "markdown",
   "metadata": {},
   "source": [
    "Now we perform the exact same steps as in the inferencing part, and save the message if it was split."
   ]
  },
  {
   "cell_type": "code",
   "execution_count": 16,
   "metadata": {},
   "outputs": [
    {
     "name": "stdout",
     "output_type": "stream",
     "text": [
      "39\n"
     ]
    }
   ],
   "source": [
    "max_length = 412\n",
    "long_messages = []\n",
    "for msg in messages:\n",
    "    combined_text = msg['text']\n",
    "    if msg['link_preview_title'] is not None:\n",
    "        combined_text = combined_text + \". \" +  msg['link_preview_title']\n",
    "    if msg['link_preview'] is not None:\n",
    "        combined_text = combined_text + \". \" +  msg['link_preview']\n",
    "\n",
    "    combined_text = combined_text.replace('. . ','. ')\n",
    "    text = prepare_single_text(combined_text)\n",
    "    \n",
    "    if len(text.split(' ')) > max_length:\n",
    "        long_messages.append(msg['_id'])\n",
    "print(len(long_messages))"
   ]
  },
  {
   "cell_type": "markdown",
   "metadata": {},
   "source": [
    "Only 39 messages are long enough to be split. NOTE THAT THIS IS PROBABLY NOT ENOUGH TO DRAW REASONABLE CONCLUSIONS: However, let us do the analysis anyway. First start with getting the labels of those messages"
   ]
  },
  {
   "cell_type": "code",
   "execution_count": 47,
   "metadata": {},
   "outputs": [],
   "source": [
    "from bson.objectid import ObjectId\n",
    "\n",
    "long_messages_labels = []\n",
    "\n",
    "for _id in long_messages:\n",
    "    query = {'_id': ObjectId(_id)}\n",
    "    msg = messages_collection.find_one(query, {\"hate_germeval_18\": 1, \"hate_germeval_19\": 1, \n",
    "                                                \"hate_germeval_1819\": 1, \"toxicity_score_preprocessed\": 1, \"toxicity_score\": 1,\n",
    "                                                \"hate_hasoc_2020\": 1, \"hate_hasoc_1920\": 1, \"hate_covid_2021\": 1, \n",
    "                                                \"gold_label\": 1, \"hate_germeval_18_task_2\": 1, 'hate_germeval_19_task_2': 1,\n",
    "                                                'hate_germeval_1819_task_2': 1, 'hate_hasoc_2020_task_2': 1, \n",
    "                                                'hate_hasoc_1920_task_2': 1})\n",
    "    long_messages_labels.append(msg)"
   ]
  },
  {
   "cell_type": "code",
   "execution_count": 48,
   "metadata": {},
   "outputs": [],
   "source": [
    "gold_labels = []\n",
    "germeval_18 = []\n",
    "germeval_19 = []\n",
    "germeval_1819 = []\n",
    "hasoc_2020 = []\n",
    "hasoc_1920 = []\n",
    "covid = []\n",
    "perspective = []\n",
    "germeval_18_task_2 = []\n",
    "germeval_19_task_2 = []\n",
    "germeval_1819_task_2 = []\n",
    "hasoc_2020_task_2 = []\n",
    "hasoc_1920_task_2 = []\n",
    "for msg in long_messages_labels:\n",
    "    gold_labels.append(get_gold_label(msg))\n",
    "    germeval_18.append(get_label(msg, 'hate_germeval_18'))\n",
    "    germeval_19.append(get_label(msg, 'hate_germeval_19'))\n",
    "    germeval_1819.append(get_label(msg, 'hate_germeval_1819'))\n",
    "    hasoc_2020.append(get_label(msg, 'hate_hasoc_2020'))\n",
    "    hasoc_1920.append(get_label(msg, 'hate_hasoc_1920'))\n",
    "    covid.append(get_label(msg, 'hate_covid_2021'))\n",
    "    perspective.append(get_label(msg, 'perspective_api'))\n",
    "    germeval_18_task_2.append(get_label(msg, 'hate_germeval_18_task_2'))\n",
    "    germeval_19_task_2.append(get_label(msg, 'hate_germeval_19_task_2'))\n",
    "    germeval_1819_task_2.append(get_label(msg, 'hate_germeval_1819_task_2'))\n",
    "    hasoc_2020_task_2.append(get_label(msg, 'hate_hasoc_2020_task_2'))\n",
    "    hasoc_1920_task_2.append(get_label(msg, 'hate_hasoc_1920_task_2'))"
   ]
  },
  {
   "cell_type": "code",
   "execution_count": 63,
   "metadata": {},
   "outputs": [
    {
     "name": "stdout",
     "output_type": "stream",
     "text": [
      "Offenisve messages:  12\n",
      "Neutral messages:  27\n"
     ]
    }
   ],
   "source": [
    "print('Offenisve messages: ', gold_labels.count(offensive_label))\n",
    "print('Neutral messages: ', gold_labels.count(neutral_label))"
   ]
  },
  {
   "cell_type": "markdown",
   "metadata": {},
   "source": [
    "And once again evaluate the classifiers on this subset of messages"
   ]
  },
  {
   "cell_type": "code",
   "execution_count": 49,
   "metadata": {},
   "outputs": [
    {
     "name": "stdout",
     "output_type": "stream",
     "text": [
      "Accuracy:  0.717948717948718\n",
      "Precision:  0.6\n",
      "Recall:  0.25\n",
      "Macro F1 score:  0.5863066538090647\n"
     ]
    },
    {
     "data": {
      "image/png": "[encoded data removed]",
      "text/plain": [
       "<Figure size 216x216 with 2 Axes>"
      ]
     },
     "metadata": {
      "needs_background": "light"
     },
     "output_type": "display_data"
    }
   ],
   "source": [
    "evaluate(gold_labels, germeval_18)"
   ]
  },
  {
   "cell_type": "code",
   "execution_count": 50,
   "metadata": {},
   "outputs": [
    {
     "name": "stdout",
     "output_type": "stream",
     "text": [
      "Accuracy:  0.6410256410256411\n",
      "Precision:  0.45\n",
      "Recall:  0.75\n",
      "Macro F1 score:  0.6290760869565217\n"
     ]
    },
    {
     "data": {
      "image/png": "[encoded data removed]",
      "text/plain": [
       "<Figure size 216x216 with 2 Axes>"
      ]
     },
     "metadata": {
      "needs_background": "light"
     },
     "output_type": "display_data"
    }
   ],
   "source": [
    "evaluate(gold_labels, germeval_19)"
   ]
  },
  {
   "cell_type": "code",
   "execution_count": 51,
   "metadata": {},
   "outputs": [
    {
     "name": "stdout",
     "output_type": "stream",
     "text": [
      "Accuracy:  0.7435897435897436\n",
      "Precision:  0.75\n",
      "Recall:  0.25\n",
      "Macro F1 score:  0.6068548387096775\n"
     ]
    },
    {
     "data": {
      "image/png": "[encoded data removed]",
      "text/plain": [
       "<Figure size 216x216 with 2 Axes>"
      ]
     },
     "metadata": {
      "needs_background": "light"
     },
     "output_type": "display_data"
    }
   ],
   "source": [
    "evaluate(gold_labels, germeval_1819)"
   ]
  },
  {
   "cell_type": "code",
   "execution_count": 52,
   "metadata": {},
   "outputs": [
    {
     "name": "stdout",
     "output_type": "stream",
     "text": [
      "Accuracy:  0.7435897435897436\n",
      "Precision:  0.5625\n",
      "Recall:  0.75\n",
      "Macro F1 score:  0.7214285714285714\n"
     ]
    },
    {
     "data": {
      "image/png": "[encoded data removed]",
      "text/plain": [
       "<Figure size 216x216 with 2 Axes>"
      ]
     },
     "metadata": {
      "needs_background": "light"
     },
     "output_type": "display_data"
    }
   ],
   "source": [
    "evaluate(gold_labels, hasoc_2020)"
   ]
  },
  {
   "cell_type": "code",
   "execution_count": 53,
   "metadata": {},
   "outputs": [
    {
     "name": "stdout",
     "output_type": "stream",
     "text": [
      "Accuracy:  0.6666666666666666\n",
      "Precision:  0.47368421052631576\n",
      "Recall:  0.75\n",
      "Macro F1 score:  0.6520247083047358\n"
     ]
    },
    {
     "data": {
      "image/png": "[encoded data removed]",
      "text/plain": [
       "<Figure size 216x216 with 2 Axes>"
      ]
     },
     "metadata": {
      "needs_background": "light"
     },
     "output_type": "display_data"
    }
   ],
   "source": [
    "evaluate(gold_labels, hasoc_1920)"
   ]
  },
  {
   "cell_type": "code",
   "execution_count": 54,
   "metadata": {},
   "outputs": [
    {
     "name": "stdout",
     "output_type": "stream",
     "text": [
      "Accuracy:  0.6410256410256411\n",
      "Precision:  0.42857142857142855\n",
      "Recall:  0.5\n",
      "Macro F1 score:  0.5961538461538461\n"
     ]
    },
    {
     "data": {
      "image/png": "[encoded data removed]",
      "text/plain": [
       "<Figure size 216x216 with 2 Axes>"
      ]
     },
     "metadata": {
      "needs_background": "light"
     },
     "output_type": "display_data"
    }
   ],
   "source": [
    "evaluate(gold_labels, covid)"
   ]
  },
  {
   "cell_type": "code",
   "execution_count": 55,
   "metadata": {},
   "outputs": [
    {
     "name": "stdout",
     "output_type": "stream",
     "text": [
      "Accuracy:  0.7948717948717948\n",
      "Precision:  0.6666666666666666\n",
      "Recall:  0.6666666666666666\n",
      "Macro F1 score:  0.7592592592592593\n"
     ]
    },
    {
     "data": {
      "image/png": "[encoded data removed]",
      "text/plain": [
       "<Figure size 216x216 with 2 Axes>"
      ]
     },
     "metadata": {
      "needs_background": "light"
     },
     "output_type": "display_data"
    }
   ],
   "source": [
    "evaluate(gold_labels, perspective)"
   ]
  },
  {
   "cell_type": "code",
   "execution_count": 57,
   "metadata": {},
   "outputs": [
    {
     "name": "stdout",
     "output_type": "stream",
     "text": [
      "Accuracy:  0.7435897435897436\n",
      "Precision:  0.6666666666666666\n",
      "Recall:  0.3333333333333333\n",
      "Macro F1 score:  0.6388888888888888\n"
     ]
    },
    {
     "data": {
      "image/png": "[encoded data removed]",
      "text/plain": [
       "<Figure size 216x216 with 2 Axes>"
      ]
     },
     "metadata": {
      "needs_background": "light"
     },
     "output_type": "display_data"
    }
   ],
   "source": [
    "evaluate(gold_labels, germeval_18_task_2)"
   ]
  },
  {
   "cell_type": "code",
   "execution_count": 58,
   "metadata": {},
   "outputs": [
    {
     "name": "stdout",
     "output_type": "stream",
     "text": [
      "Accuracy:  0.6666666666666666\n",
      "Precision:  0.46153846153846156\n",
      "Recall:  0.5\n",
      "Macro F1 score:  0.6173584905660378\n"
     ]
    },
    {
     "data": {
      "image/png": "[encoded data removed]",
      "text/plain": [
       "<Figure size 216x216 with 2 Axes>"
      ]
     },
     "metadata": {
      "needs_background": "light"
     },
     "output_type": "display_data"
    }
   ],
   "source": [
    "evaluate(gold_labels, germeval_19_task_2)"
   ]
  },
  {
   "cell_type": "code",
   "execution_count": 59,
   "metadata": {},
   "outputs": [
    {
     "name": "stdout",
     "output_type": "stream",
     "text": [
      "Accuracy:  0.7435897435897436\n",
      "Precision:  0.75\n",
      "Recall:  0.25\n",
      "Macro F1 score:  0.6068548387096775\n"
     ]
    },
    {
     "data": {
      "image/png": "[encoded data removed]",
      "text/plain": [
       "<Figure size 216x216 with 2 Axes>"
      ]
     },
     "metadata": {
      "needs_background": "light"
     },
     "output_type": "display_data"
    }
   ],
   "source": [
    "evaluate(gold_labels, germeval_1819_task_2)"
   ]
  },
  {
   "cell_type": "code",
   "execution_count": 60,
   "metadata": {},
   "outputs": [
    {
     "name": "stdout",
     "output_type": "stream",
     "text": [
      "Accuracy:  0.7435897435897436\n",
      "Precision:  0.5714285714285714\n",
      "Recall:  0.6666666666666666\n",
      "Macro F1 score:  0.7115384615384615\n"
     ]
    },
    {
     "data": {
      "image/png": "[encoded data removed]",
      "text/plain": [
       "<Figure size 216x216 with 2 Axes>"
      ]
     },
     "metadata": {
      "needs_background": "light"
     },
     "output_type": "display_data"
    }
   ],
   "source": [
    "evaluate(gold_labels, hasoc_2020_task_2)"
   ]
  },
  {
   "cell_type": "code",
   "execution_count": 61,
   "metadata": {},
   "outputs": [
    {
     "name": "stdout",
     "output_type": "stream",
     "text": [
      "Accuracy:  0.7948717948717948\n",
      "Precision:  0.6428571428571429\n",
      "Recall:  0.75\n",
      "Macro F1 score:  0.7692307692307693\n"
     ]
    },
    {
     "data": {
      "image/png": "[encoded data removed]",
      "text/plain": [
       "<Figure size 216x216 with 2 Axes>"
      ]
     },
     "metadata": {
      "needs_background": "light"
     },
     "output_type": "display_data"
    }
   ],
   "source": [
    "evaluate(gold_labels, hasoc_1920_task_2)"
   ]
  }
 ],
 "metadata": {
  "kernelspec": {
   "display_name": "Python 3",
   "language": "python",
   "name": "python3"
  },
  "language_info": {
   "codemirror_mode": {
    "name": "ipython",
    "version": 3
   },
   "file_extension": ".py",
   "mimetype": "text/x-python",
   "name": "python",
   "nbconvert_exporter": "python",
   "pygments_lexer": "ipython3",
   "version": "3.8.5"
  }
 },
 "nbformat": 4,
 "nbformat_minor": 4
}
