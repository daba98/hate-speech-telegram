{
 "cells": [
  {
   "cell_type": "code",
   "execution_count": 1,
   "metadata": {},
   "outputs": [],
   "source": [
    "import pymongo\n",
    "import re\n",
    "from bertopic import BERTopic\n",
    "from scipy.spatial import distance\n",
    "from sklearn.feature_extraction.text import CountVectorizer\n",
    "from nltk.corpus import stopwords\n",
    "import numpy\n",
    "german_stop_words = stopwords.words('german')"
   ]
  },
  {
   "cell_type": "code",
   "execution_count": 2,
   "metadata": {},
   "outputs": [],
   "source": [
    "client = pymongo.MongoClient(\"mongodb://localhost:27017/\")"
   ]
  },
  {
   "cell_type": "markdown",
   "metadata": {},
   "source": [
    "# 1. Get the Data\n",
    "The overall idea is to create a topic model over a set of channels, such that we can then assign each channel a vector representing the relative frequency of the topics. To do this we have to get the data from the databse."
   ]
  },
  {
   "cell_type": "markdown",
   "metadata": {},
   "source": [
    "### Get all the channels\n",
    "First of all we want to know which channels exist, such that we can then query all messages for a given channel."
   ]
  },
  {
   "cell_type": "code",
   "execution_count": 3,
   "metadata": {},
   "outputs": [],
   "source": [
    "channels = client.telegram.channels\n",
    "\n",
    "def get_list_of_all_channel_names():\n",
    "    query = {\"$or\": [{\"language\": \"de\"}, {\"language\": None}]}\n",
    "    cursor = channels.find(query, {\"_id\": 0, \"channel\": 1})\n",
    "    channel_names = []\n",
    "    for channel in cursor:\n",
    "        channel_names.append(channel['channel'])\n",
    "    return channel_names"
   ]
  },
  {
   "cell_type": "markdown",
   "metadata": {},
   "source": [
    "So let us see some channels..."
   ]
  },
  {
   "cell_type": "code",
   "execution_count": 5,
   "metadata": {},
   "outputs": [
    {
     "name": "stdout",
     "output_type": "stream",
     "text": [
      "Number of channels:  46275\n",
      "First ten channels:  ['chrisaresoffiziell', 'attilahildmann', 'insvenswelt', 'arcadimagazin', 'achseostwest', 'connectivevents', 'antispiegel', 'evahermanoffiziell', 'oliverjanich', 'compactmagazin']\n"
     ]
    }
   ],
   "source": [
    "channel_names = get_list_of_all_channel_names()\n",
    "print('Number of channels: ', len(channel_names))\n",
    "print(\"First ten channels: \", channel_names[:10])"
   ]
  },
  {
   "cell_type": "markdown",
   "metadata": {},
   "source": [
    "### Get messages of a particular channel\n",
    "In order to perform topic modelling on a set of channels, we have to get messages of these channels. As we are only interested in german text, we filter only the german messages.\n",
    "To improve the topic modeling, we replace all URLs by \\<URL\\> and all usernames by \\<USERNAME\\>"
   ]
  },
  {
   "cell_type": "code",
   "execution_count": 6,
   "metadata": {},
   "outputs": [],
   "source": [
    "def replace_URL(string):\n",
    "    return re.sub('http[s]?://\\S+', '<URL>', string)"
   ]
  },
  {
   "cell_type": "code",
   "execution_count": 7,
   "metadata": {},
   "outputs": [
    {
     "name": "stdout",
     "output_type": "stream",
     "text": [
      "Das ist ein Beispiel mit einer URL <URL> oder in der secure Variante <URL>\n"
     ]
    }
   ],
   "source": [
    "string = \"Das ist ein Beispiel mit einer URL http://beispiel.org oder in der secure Variante https://beispiel.com\"\n",
    "print(replace_URL(string))"
   ]
  },
  {
   "cell_type": "code",
   "execution_count": 8,
   "metadata": {},
   "outputs": [],
   "source": [
    "def replace_username(string):\n",
    "    return re.sub('@\\S+', '<USERNAME>', string)"
   ]
  },
  {
   "cell_type": "code",
   "execution_count": 9,
   "metadata": {},
   "outputs": [
    {
     "name": "stdout",
     "output_type": "stream",
     "text": [
      "Folgt alle <USERNAME> oder dem neuen Account <USERNAME>\n"
     ]
    }
   ],
   "source": [
    "string = \"Folgt alle @ATTILAHILDMANN oder dem neuen Account @ATTILAHILDMANN_2\"\n",
    "print(replace_username(string))"
   ]
  },
  {
   "cell_type": "code",
   "execution_count": 10,
   "metadata": {},
   "outputs": [],
   "source": [
    "def replace_URL_and_username(string):\n",
    "    return replace_username(replace_URL(string))"
   ]
  },
  {
   "cell_type": "code",
   "execution_count": 11,
   "metadata": {},
   "outputs": [],
   "source": [
    "messages = client.telegram.messages\n",
    "\n",
    "\n",
    "def get_messages_from_channel(channel_name, max_number_of_messages=100000):\n",
    "    query = {\"channel_name\": channel_name, \"language\" : \"de\"}\n",
    "    query_res = messages.find(query, {\"_id\": 0, \"text\": 1}, limit=max_number_of_messages)\n",
    "    message_list = []\n",
    "    for msg in query_res:\n",
    "        if msg['text'] is not None:\n",
    "            preprocessed_msg = replace_URL_and_username(msg['text'])\n",
    "            message_list.append(preprocessed_msg)\n",
    "    return message_list"
   ]
  },
  {
   "cell_type": "markdown",
   "metadata": {},
   "source": [
    "So let us see some messages of one particular channel..."
   ]
  },
  {
   "cell_type": "code",
   "execution_count": 12,
   "metadata": {},
   "outputs": [
    {
     "name": "stdout",
     "output_type": "stream",
     "text": [
      "Number of messages:  300\n",
      "First three messages:  [\"LOCKDOWN FOREVER\\n❓\\n❓\\n❓\\n🔺\\n Bundesländer einigen sich bei Telefonschalte auf Verlängerung des Lockdowns\\n🔺\\n Am Samstagnachmittag einigten sich die Länder in einer Telefonschalte zur Vorbereitung der kommenden Konferenz der Ministerpräsidenten mit der Kanzlerin darauf, den aktuellen Lockdown über den 10. Januar hinaus zu verlängern. \\n🔺\\n \\nDie Chefs der Staatskanzleien waren sich allerdings über die Dauer der Verlängerung nicht einig\\n❕\\n🔺\\n Die Chefs der Staatskanzleien hätten sich bei einer Telefonkonferenz am Samstagnachmittag nicht einigen können, ob die Verlängerung zunächst für zwei oder drei Wochen beschlossen werden sollte, berichtet die Frankfurter Allgemeine Sonntagszeitung\\nNoch Fragen?\\n \\n🤬\\nHier den vollständigen Artikel lesen\\n👇\\n<URL>\\nMehr kostenfreie Info's und Enthüllungen:\\n👉\\n \\n<URL>\", '😅\\n😂\\n mehr zum lachen & lustig sein auf: \\n<URL>', '😅\\n😂\\n mehr zum lachen & lustig sein auf: \\n<URL>']\n"
     ]
    }
   ],
   "source": [
    "channel_messages = get_messages_from_channel(\"connectivevents\", 300);\n",
    "print('Number of messages: ', len(channel_messages))\n",
    "print('First three messages: ', channel_messages[:3])"
   ]
  },
  {
   "cell_type": "markdown",
   "metadata": {},
   "source": [
    "### Get messages of a set of channels\n",
    "We want to create a topic model over a set of channels, so we have to collect messages from these channels. We have to make sure that we sample the same amount of messages from each channel."
   ]
  },
  {
   "cell_type": "code",
   "execution_count": 28,
   "metadata": {},
   "outputs": [],
   "source": [
    "# if a channel has less than MIN_NUMBER_OF_MESSAGES then we do not use this channel\n",
    "MIN_NUMBER_OF_MESSAGES = 300\n",
    "\n",
    "def get_messages_from_channels(channels, verbose=False):\n",
    "    max_number_of_messages = 500\n",
    "    channel_to_msgs_dict = {}\n",
    "    for idx, channel in enumerate(channels):\n",
    "        msg_list = get_messages_from_channel(channel, max_number_of_messages)\n",
    "        nbo_messages = len(msg_list)\n",
    "        if nbo_messages >= MIN_NUMBER_OF_MESSAGES:\n",
    "            channel_to_msgs_dict[channel] = msg_list\n",
    "            max_number_of_messages = min(max_number_of_messages, nbo_messages)\n",
    "        \n",
    "        if verbose and idx % 10 == 0:\n",
    "            print('Loaded ' + str(idx) + ' channels')\n",
    "    \n",
    "    all_messages = []\n",
    "    channels_with_enough_messages = []\n",
    "    for channel, msg_list in channel_to_msgs_dict.items():\n",
    "        all_messages.extend(msg_list[:max_number_of_messages])\n",
    "        channels_with_enough_messages.append(channel)\n",
    "    \n",
    "    return all_messages, channels_with_enough_messages"
   ]
  },
  {
   "cell_type": "code",
   "execution_count": 22,
   "metadata": {},
   "outputs": [
    {
     "name": "stdout",
     "output_type": "stream",
     "text": [
      "Loaded 0 channels\n",
      "Loaded 10 channels\n",
      "Loaded 20 channels\n",
      "Loaded 30 channels\n",
      "Loaded 40 channels\n",
      "Loaded 50 channels\n",
      "Loaded 60 channels\n",
      "Loaded 70 channels\n",
      "Loaded 80 channels\n",
      "Loaded 90 channels\n",
      "Loaded 100 channels\n",
      "Loaded 110 channels\n",
      "Loaded 120 channels\n",
      "Loaded 130 channels\n",
      "Loaded 140 channels\n",
      "Loaded 150 channels\n",
      "Loaded 160 channels\n",
      "Loaded 170 channels\n",
      "Loaded 180 channels\n",
      "Loaded 190 channels\n",
      "Loaded 200 channels\n",
      "Loaded 210 channels\n",
      "Loaded 220 channels\n",
      "Loaded 230 channels\n",
      "Loaded 240 channels\n",
      "Loaded 250 channels\n",
      "Loaded 260 channels\n",
      "Loaded 270 channels\n",
      "Loaded 280 channels\n",
      "Loaded 290 channels\n",
      "Loaded 300 channels\n",
      "Loaded 310 channels\n",
      "Loaded 320 channels\n",
      "Loaded 330 channels\n",
      "Loaded 340 channels\n",
      "Loaded 350 channels\n",
      "Loaded 360 channels\n",
      "Loaded 370 channels\n",
      "Loaded 380 channels\n",
      "Loaded 390 channels\n",
      "Loaded 400 channels\n",
      "Loaded 410 channels\n",
      "Loaded 420 channels\n",
      "Loaded 430 channels\n",
      "Loaded 440 channels\n",
      "Loaded 450 channels\n",
      "Loaded 460 channels\n",
      "Loaded 470 channels\n",
      "Loaded 480 channels\n",
      "Loaded 490 channels\n",
      "Loaded 500 channels\n",
      "Loaded 510 channels\n",
      "Loaded 520 channels\n",
      "Loaded 530 channels\n",
      "Loaded 540 channels\n",
      "Loaded 550 channels\n",
      "Loaded 560 channels\n",
      "Loaded 570 channels\n",
      "Loaded 580 channels\n",
      "Loaded 590 channels\n",
      "Loaded 600 channels\n",
      "Loaded 610 channels\n",
      "Loaded 620 channels\n",
      "Loaded 630 channels\n",
      "Loaded 640 channels\n",
      "Loaded 650 channels\n",
      "Loaded 660 channels\n",
      "Loaded 670 channels\n",
      "Loaded 680 channels\n",
      "Loaded 690 channels\n",
      "Loaded 700 channels\n",
      "Loaded 710 channels\n",
      "Loaded 720 channels\n",
      "Loaded 730 channels\n",
      "Loaded 740 channels\n",
      "Loaded 750 channels\n",
      "Loaded 760 channels\n",
      "Loaded 770 channels\n",
      "Loaded 780 channels\n",
      "Loaded 790 channels\n",
      "Loaded 800 channels\n",
      "Loaded 810 channels\n",
      "Loaded 820 channels\n",
      "Loaded 830 channels\n",
      "Loaded 840 channels\n",
      "Loaded 850 channels\n",
      "Loaded 860 channels\n",
      "Loaded 870 channels\n",
      "Loaded 880 channels\n",
      "Loaded 890 channels\n",
      "Loaded 900 channels\n",
      "Loaded 910 channels\n",
      "Loaded 920 channels\n",
      "Loaded 930 channels\n",
      "Loaded 940 channels\n",
      "Loaded 950 channels\n",
      "Loaded 960 channels\n",
      "Loaded 970 channels\n",
      "Loaded 980 channels\n",
      "Loaded 990 channels\n",
      "Number of messages:  154200\n",
      "Remaining channels:  ['attilahildmann', 'insvenswelt', 'achseostwest', 'connectivevents', 'antispiegel', 'evahermanoffiziell', 'oliverjanich', 'compactmagazin', 'unblogd', 'prototelegram', 'contra_magazin', 'ein_prozent', 'kenfm', 'multipolar_magazin', 'antiilluminaten', 'derdritteblickwinkel', 'gwisnewski', 'schubertslm', 'charleskrueger', 'mithumordurchdieapokalypse', 'danielprinzoffiziell', 'tagesereignisse', 'nuoviso', 'freiemedientv', 'haintz', 'epochtimesde', 'rabbitresearch', 'wendezweipunktnull', 'maskenverbot', 'haunsiappmann', 'wochenblick', 'kranztv', 'frieden_rockt_offiziell', 'dsindf', 'schrangtv', 'hejgermany', 'taufertshoefer', 'rubikonnews', 'waldgangalbdruck', 'tonitano', 'zerstoerungdernwo', 'samueleckert', 'buergerinformative', 'politaufkleber_de', 'naomiseibt', 'reitschusterde', 'checkmatenews', 'stuttgartgrundgesetzdemos', 'karolineseibt', 'nachrichtenportal', 'aerztefueraufklaerung', 'hadmut', 'paytrioten', 'markmobil', 'kephren23', 'kenjebsen', 'trumpcomesback', 'michaelwendlerofficial', 'hgmaassen', 'mindofheart', 'expresszeitung', 'kulturstudio', 'unzensiert', 'meinungsfreiheit_2_0', 'patriotnews', 'pinews1', 'deepstate_is_in_deepshit', 'hagengrell', 'freiheit1871', 'politische_bildersprueche', 'faktenfriedenfreiheit', 'martinsellnerib', 'verbindediepunkte', 'oliverflesch', 'lutzbachmann', 'argonerd', 'shlomobbing', 'sandragabriel269', 'laser_lurch', 'rt_deutsch', 'wim4u', 'coronawahnarchiv', 'kaiorak', 'timmkellner', 'zweitedeutschewelle', 'neuzeitnachrichten', 'servusdeutschland', 'oli_net', 'maxopposition', 'gerechtigkeitfuersvaterland', 'darxxuns_nighthawks', 'sezession', 'invictusveritasmedia', 'fufmedia', 'flinkfeed', 'pboehringer', 'wirbleibendeutsch', 'qlobalchange', 'truelife18', 'gutmenschenkeule', 'spioniker', 'islamistenjaeger', 'hartesgeld', 'dawidsnowden', 'videodump1', 'jouwatch', 'schneedemo', 'xavier_naidoo', 'deftiges', 'coronadieluege', 'wendezeithannover', 'nityatelegram', 'dr_heinrich_fiechtner', 'uncut_news', 'attilahildmann_2', 'silberjungethorstenschulte', 'q_faktor_germany', 'mitteldeutschlandtv', 'mmnews_offiziell', 'corona_vir', 'freiheitdergedanken', 'zehnmin', 'ftaol', 'royalallemand', 'afd_thl', 'erwachen2021', 'stefanmagnet', 'siegfrieddaebritz', 'scharfschuetzenbewegung1', 'wirmachenauf_de', 'gftv_hh', 'ungeteilt', 'genticus', 'einzelfallinfos', 'dierechtebshi', 'ra_ludwig', 'staatsversagen', 'betterknownow', 'wirsindvielmehr', 'ehrenfrautv', 'lionmediatelegram', 'patrioticmedia', 'horizonworld_offiziell', 'blutgruppeq', 'deutschetagesnews', 'anonymousschweizorginal', 'antifaaufklaerung', 'mh171702q2q', 'gelbewesten', 'rechtundwahrheit', 'coronainsanity', 'globalpatriots', 'vielezeitzeugen', 'mzwnews', 'der_volkslehrer', 'demotermine', 'ignazbearth', 'frmawa', 'coronawahnsinnstoppen', 'querdenken_711', 'afdfreundetuebingen', 'lockdownistfreiheitsberaubung', 'coronaobjektiv', 'marioamenti', 'deutschestimmemagazin', 'corona_aufklaerung_at', 'eingeschenkt', 'dortmundsrechte', 'derdritteweg', 'info_direkt', 'liedermacherfylgien', 'sicherheitshinweise', 'mstpatriotnrw', 'digitalpatrioten', 'asethor', 'wwg1wgaworldwide', 'durchschauen', 'nachrichtenwelt', 'contracoma', 'rob_bob_th', 'freiemedienecknord', 'whiteroses2021', 'grossherzogfriedrichmaik', 'koronaakte', 'corona_ist_nicht_das_problem', 'cdefghijkxxz', 'neustart_jetzt', 'gunnarkaisertv', 'derdrittewegwestsachsen', 'dbullcutter', 'unsuedhessen', 'dekurier', 'deutschlandkurier', 'rasattelmaier', 'heimatgewaltfreivereint', 'davebrych_public', 'das_telegram_archiv', 'wolfgangwodarg', 'blauerbote', 'wolfganggreulich', 'derstrammegermane', 'tagesstimme', 'corona_ausschuss', 'klemenskilictelegram', 'bitchbotboiilive', 'nds_hinweise', 'deriiiwegspmuenchenoberbayern', 'identitaeredeutschland', 'siegdeslichts', 'harlekinshop', 'nachrichtvonmueller', 'wjatscheslawseewald', 'we_r_q', 'extremnews', 'ddddoffiziell', 'globaleserwachen', 'adrenocrime', 'pcrecords', 'nocoincidence', 'ausgesoedert', 'stefanraven', 'pankalla', 'allesaussermainstream', 'kaninchenbau', 'ntddeutsch', 'gaggaland', 'libertas_corona_info', 'gegendiemaskenpflicht2020', 'newspicker', 'wissenistmacht1', 'gottistgutzujederzeit', 'kilezmore', 'gesundheiternaehrung', 'infoplatz', 'q74you', 'talawolf', 'wilmchensturkopf', 'infowelle', 'kandelteam2020', 'muratoezkan', 'flacheerdegemeinschaft', 'qparadise', 'militaernews', 'geomonitor', 'anonymous_germany', 'rationalgalerie', 'fletchersvisionen', 'saveassange', 'donnerruf_wordpress_com', 'koronaalarm', 'silberjungeoffiziell', 'patriotmr', 'yoicenet2', 'buchkomplizen', 'impfkritischkanal', 'markus_lowien', 'henrykstoeckl', 'militarbeobachter', 'evarosen', 'rt_de', 'rund_um_gesund', 'into_the_light_news', 'junges_blut', 'covidiotentv', 'qpluswatnn', 'tao_theorieallerordnung', 'georgswzg', 'kinder_schuetzen', 'deutschedichter', 'teilzeittruther', 'journalisten_watch', 'realsciencefiles', 'derdeutschamerikaner', 'fragunsdoch_wwg1wga', 'dt64infoampulsderzeit207', 'heinerultras', 'coronatransition', 'coronainformationskanal', 'hauptstadtstudio', 'nsheute', 'teamhcstrache', 'diebandbreite', 'pegidaoriginal', 'aktivistmann', 'weltnetztv', 'weden_asatru_kanal', 'trinitaetdeslebens', 'holistischegesundheitheilung', 'intressantesundinformatives', 'kanaltobiasnews', 'augenaufaa', 'corona_big_change', 'dfjinfo', 'ayse_meren', 'valkuerer', 'maraswelt', 'ypmc_news', 'infonethh', 'wasdiemediennichtzeigen', 'earth_reboot', 'translatedpressde', 'putin_fanclub', 'karl_hilz', 'mad_in_germany', 'maximalegesundheit', 'germanchemtrailwatchers', 'q_proofs', 'nanadomena', 'ddb_radio', 'newsostberlin', 'alexander_ehrlich', 'lichtsrbeiter', 'checkmatespirit', 'frauen_bustour', 'qanons_channel_germany', 'peacecrowd', 'efmagazin', 't5mtxr8b', 'impfungcoronaundco', 'digitalepaytrioten', 'dornimauge', 'systemboykott', 'fsnrev', 'jungerevolutioninfo', 'frankkraemer', 'diewahrheitundnurdiewahrheit', 'doqusthreads', 'q_d_r_a', 'patrioten24_kanal', 'demokratie_und_gg_verteidigen', 'blaupausetv', 'jugendamtskritiker', 'digitalchronist', 'coachcecil', 'vereinigtewahrheitsbewegung', 'lichtmenschen', 'wombels_kunst', 'illuminati_news_tv', 'kategoriec_support', 'landvolk_schafft_verbindung', 'ruedigerdahlke', 'jnpdniedersachsen', 'martinlejeune', 'geheimeswissendereliten', 'bitteltv', 'coronarebellenoberlausitz', 'jungenationalisten', 'diekmshow', 'poeberlin', 'neverforgetnikiblog', 'drguidohofmann', 'klagemauertv', 'news1g', 'tinetebo', 'vonosterhal', 'stabilalsfamilie', 'freiburg_berlin2020', 'corona_reset', 'antifademosberlin', 'infofrankfurt', 'huerdenflug', 'unzat', 'berlinmarkbrandenburg', 'kraftdeinergedanken', 'ignatia_intolerantia', 'dierechteinfo', 'qwwg1wga16plus1', 'laborpandemie', 'abakusnews', 'oho11', 'tobivivo', 'rockhate', 'rechterheinerft', 'koenigreichdeutschland', 'npdbundesverband', 'kaibrenner', 'wehrhaft', 'metapedia_deutsch', 'widerstandberlin', 'ursprunc', 'miesenews', 'sandysteen1', 'staatenlosinfokanal', 'vonmenschzumensch', 'ende_der_luege', 'rbk_2020', 'urppp', 'outdoor_germany', 'schwarzefahneog', 'systemgesund', 'eszeitgut', 'aufmessersschneide', 'mdbseitz', 'honkforhopeoffiziell', 'polko1', 'alex_malenki', 'nachrichtenkanal', 'kvltgames', 'geroldbeneder', 'freeyourmindkanal', 'wie_bitte_echt_jetzt', 'bewusstseinlink', 'jungealternativelsa', 'aagermany', 'bewegungosna', 'mandic4landtag', 'voelkischer_aufklaerer', 'neuesradiodeutschland', 'sprachrohrderoberpfalz', 'demostream', 'wahrheitstraeumer', 'inakarb', 'wissenseffekt', 'aerzte', 'brdsklave', 'weltfrieden_20202021', 'clips79', 'thefreeswisspeople', 'kesselbunte', 'lara2020eberbach', 'infokanal_muenzenmaier', 'befrei', 'c19teilbar', 'chrisriverscgn', 'dsdarialive', 'junge_freiheit', 'radiodeutschlandeins', 'erfurtzeigtgesicht', 'reconquistahelvetica', 'frei3_de', 'lichtanonsmensch', 'behindthecurtainger', 'weissesarmband', 'medienzensur', 'marcbernhard', 'der17stammtisch', 'kaistuht', 'kerimkakmaci', 'wdchurschweiz', 'heinrichs_gedanken', 'mandalass', 'widerstand100', 'liebeisstleben', 'spirit_of_life', 'abendlanddeutschland', 'geheimnis_gesundheit', 'heikoschrangtv', 'querfuehlenkanal', 'researchgermanyinfo', 'nunreichtes', 'widerstandsnachrichten', 'nationalanarchistnetwork', 'alternativefuerde', 'detleffartist7', 'top20radionews', 'lovestorm_people', 'arminius_erben', 'futureunlimited', 'freiegedankentanken', 'querdenken_381', 'quicksatnet', 'top20radiotopsecret', 'wahrheiterkenntnismanipulation', 'menschen_der_freiheit', 'freiheitdenkmit', 'freiauf', 'beimherrmann', 'einsamerwanderer2019', 'ygblog', 'deutschlandstehtauf', 'natur_heilt_dich', 'querdenken511', 'manuelmuellner', 'openmindmedium', 'drdaniellanghans', 'top20radiotrump', 'infoschleuder', 'cdc_diebasis_podcast', 'cryptonewsdeutsch', 'freiheitskaempferkanal', 'missiongesundheit', 'meinednews', 'wdchur', 'graystate', 'sbgwa', 'truthmonkey17', 'kwerformat', 'augsburg_unmaskiert', 'wirstehenauf_oe', 'q_for_you_news', 'unsermitteleuropa', 'tayssen', 'lichtkriegerengel', 'derpate2021', 'aufklaerer2021', 'weltdergesundheittv', 'querdenken_69', 'mediaguerillaberlin', 'q_gold', 'gesundheitsratgeber', 'nrwnews', 'jenskestner', 'netzradiogermania', 'frontmagazin', 'denkwuerdig', 'themask_diemaske', 'aig60', 'bogdanburiankov', 'paulapcay', 'guardiansofgaia', 'krisenrat', 'veralengsfeld', 'querdenken_351', 'impfenmussfreiwilligbleiben']\n"
     ]
    }
   ],
   "source": [
    "all_messages, remaining_channels = get_messages_from_channels(channel_names[:1000], verbose=True)\n",
    "print('Number of messages: ', len(all_messages))\n",
    "print('Remaining channels: ', remaining_channels)"
   ]
  },
  {
   "cell_type": "markdown",
   "metadata": {},
   "source": [
    "# 2. Fit the model\n",
    "In the second step we can use the collected messages to create a topic model"
   ]
  },
  {
   "cell_type": "code",
   "execution_count": 23,
   "metadata": {},
   "outputs": [
    {
     "data": {
      "application/vnd.jupyter.widget-view+json": {
       "model_id": "91e220d8792648f7a7192bf66a735b67",
       "version_major": 2,
       "version_minor": 0
      },
      "text/plain": [
       "HBox(children=(HTML(value='Batches'), FloatProgress(value=0.0, max=4819.0), HTML(value='')))"
      ]
     },
     "metadata": {},
     "output_type": "display_data"
    },
    {
     "name": "stdout",
     "output_type": "stream",
     "text": [
      "\n"
     ]
    },
    {
     "name": "stderr",
     "output_type": "stream",
     "text": [
      "2021-05-03 19:17:31,149 - BERTopic - Transformed documents to Embeddings\n",
      "2021-05-03 19:19:10,521 - BERTopic - Reduced dimensionality with UMAP\n",
      "2021-05-03 19:19:28,797 - BERTopic - Clustered UMAP embeddings with HDBSCAN\n",
      "2021-05-03 20:11:48,037 - BERTopic - Reduced number of topics from 2109 to 2013\n",
      "/home/ubuntu/anaconda3/lib/python3.8/site-packages/scipy/sparse/_index.py:124: SparseEfficiencyWarning: Changing the sparsity structure of a csr_matrix is expensive. lil_matrix is more efficient.\n",
      "  self._set_arrayXarray(i, j, x)\n"
     ]
    }
   ],
   "source": [
    "vectorizer_model = CountVectorizer(ngram_range=(1, 1), stop_words=german_stop_words)\n",
    "model = BERTopic(language = \"german\", nr_topics=\"auto\", calculate_probabilities = False, vectorizer_model=vectorizer_model, verbose=True)\n",
    "topics, probabilities = model.fit_transform(all_messages)\n",
    "model.save('model_1000')"
   ]
  },
  {
   "cell_type": "code",
   "execution_count": 24,
   "metadata": {},
   "outputs": [
    {
     "name": "stdout",
     "output_type": "stream",
     "text": [
      "      Topic  Count                                               Name\n",
      "0        -1  75101      -1_lauterbach_chlordioxid_kanzlerin_thüringen\n",
      "1         3   8851  3_ignazbearth_unblogdlive_gestrigen_einsteigerset\n",
      "2       339   2681     339_wiener_salzburg_österreichischen_hauptchat\n",
      "3       769    821  769_amtsenthebungsverfahren_republikaner_impea...\n",
      "4       563    807       563_chinas_chinesischen_chinesische_chinesen\n",
      "...     ...    ...                                                ...\n",
      "1980   1009     10  1009_mikrogeräte_sternförmige_darmschleimhaut_...\n",
      "1981   2000     10  2000_abstimmung_wahlbeteiligung_referendum_hun...\n",
      "1982   1999     10             1999_gefährten_lucky_stolz_liebevoller\n",
      "1983   1003     10  1003_immobilieninvestment_oportunity_beraterst...\n",
      "2012   2107     10  2107_biermarken_mitschläger_kalchreuth_geschle...\n",
      "\n",
      "[2013 rows x 3 columns]\n"
     ]
    }
   ],
   "source": [
    "print(model.get_topic_info())"
   ]
  },
  {
   "cell_type": "code",
   "execution_count": 27,
   "metadata": {},
   "outputs": [
    {
     "data": {
      "text/plain": [
       "[('wiener', 0.0043820582962283096),\n",
       " ('salzburg', 0.003823720394698017),\n",
       " ('österreichischen', 0.003583943778832602),\n",
       " ('hauptchat', 0.003500585103270566),\n",
       " ('österreichische', 0.002723549814401268),\n",
       " ('österreicher', 0.002659468120426261),\n",
       " ('müllner', 0.0025520203967139784),\n",
       " ('innsbruck', 0.0020280766748765394),\n",
       " ('ungarn', 0.002026565838617191),\n",
       " ('abgeriegelt', 0.0020156541320707233)]"
      ]
     },
     "execution_count": 27,
     "metadata": {},
     "output_type": "execute_result"
    }
   ],
   "source": [
    "model.get_topic(339)"
   ]
  },
  {
   "cell_type": "markdown",
   "metadata": {},
   "source": [
    "# 3. Get the topic distribution of the channels\n",
    "Now that we have trained the model, we can predict the topic for each message. To compare channels, we compute the topic distribution of each channel. This means, that we predict the topic for each message in the channel and then use  a vector containing the relative frequency of the topics as the topic representation of the channel. "
   ]
  },
  {
   "cell_type": "code",
   "execution_count": 31,
   "metadata": {},
   "outputs": [],
   "source": [
    "# first of all we load our model\n",
    "#we have trained several models\n",
    "# model_800 is one model trained on the first 800 channels and the nr_topics set to 200\n",
    "# another model is model_1500 trained on the first 1500 channels, nr_topics= 200, +link_preview +link_preview_title\n",
    "model = BERTopic.load('model_1500')"
   ]
  },
  {
   "cell_type": "code",
   "execution_count": 20,
   "metadata": {},
   "outputs": [],
   "source": [
    "def get_topic_distribution(topics_per_msg, no_topics):\n",
    "    topic_counts = numpy.zeros(no_topics)\n",
    "    for topic in topics_per_msg:\n",
    "        if topic != -1:\n",
    "            topic_counts[topic]+=1\n",
    "    total = numpy.sum(topic_counts)\n",
    "    return topic_counts/total"
   ]
  },
  {
   "cell_type": "markdown",
   "metadata": {},
   "source": [
    "We do not want to recompute the topic distributions every time, therefore we store the topic distribution vector in the channels collection in the new field \"topic_1500\" (also for the model_800 some reduced topic vector was stored in the field \"topic_800_reduced\")"
   ]
  },
  {
   "cell_type": "code",
   "execution_count": 51,
   "metadata": {},
   "outputs": [],
   "source": [
    "def save_topic_vectors(channel_to_topic_distr_dict):\n",
    "    for channel, topic_distr in channel_to_topic_distr_dict.items():\n",
    "        query = {\"channel\": channel}\n",
    "        new_value = {\"$set\": {\"topic_1500\": topic_distr.tolist()}}\n",
    "        channels.update_one(query, new_value)"
   ]
  },
  {
   "cell_type": "markdown",
   "metadata": {},
   "source": [
    "So now we can iterate over all the channels, get all the corresponding messages, predict the topic of each message, and compute the topic distribution of the channel. As this is very computational expensive, this was done using Google Colab."
   ]
  },
  {
   "cell_type": "code",
   "execution_count": 18,
   "metadata": {},
   "outputs": [],
   "source": [
    "def predict_topics():\n",
    "    channel_to_topic_distr = {}\n",
    "    for channel in channel_names:\n",
    "        msgs = get_messages_from_channel(channel)\n",
    "        if len(msgs) >= 100:\n",
    "            topics, _ = model.transform(msgs)\n",
    "            channel_to_topic_distr[channel] = get_topic_distribution(topics, no_topics)\n",
    "    save_topic_vectors(channel_to_topic_distr)"
   ]
  },
  {
   "cell_type": "markdown",
   "metadata": {},
   "source": [
    "# 4. Compare the topic distributions of the channels\n",
    "Now that we have computed the topic distributions for all the channels (all german channels containing at least 100 german messages), we want to compare their topic distribution in order to find similar channels."
   ]
  },
  {
   "cell_type": "markdown",
   "metadata": {},
   "source": [
    "First of all let us get an overview for how many channels and messages we have computed the topic vector representation"
   ]
  },
  {
   "cell_type": "code",
   "execution_count": 13,
   "metadata": {},
   "outputs": [
    {
     "name": "stdout",
     "output_type": "stream",
     "text": [
      "Number of channels:  2215\n",
      "Number of messages:  5301885\n"
     ]
    }
   ],
   "source": [
    "def get_channel_names_with_topic_1500():\n",
    "    query = {'topic_1500': {'$exists': True}}\n",
    "    return [channel['channel'] for channel in channels.find(query, {'_id': 0, 'channel': 1})]\n",
    "\n",
    "\n",
    "def get_number_of_messages(channels):\n",
    "    count = 0\n",
    "    for channel in channels:\n",
    "        msgs = get_messages_from_channel(channel)\n",
    "        count += len(msgs)\n",
    "    return count\n",
    "\n",
    "channels_with_topic = get_channel_names_with_topic_1500()\n",
    "print('Number of channels: ', len(channels_with_topic))\n",
    "print('Number of messages: ', get_number_of_messages(channels_with_topic))"
   ]
  },
  {
   "cell_type": "markdown",
   "metadata": {},
   "source": [
    "Ok, then we can start now by retrieving the topic_1500 vector for each channel from the database"
   ]
  },
  {
   "cell_type": "code",
   "execution_count": 34,
   "metadata": {},
   "outputs": [],
   "source": [
    "query = {'topic_1500': {'$exists': True}}\n",
    "name_topic_filter = {'_id': 0, 'channel': 1, 'topic_1500': 1}\n",
    "channel_to_topic = {channel['channel']: channel['topic_1500'] for channel in channels.find(query, name_topic_filter)}"
   ]
  },
  {
   "cell_type": "markdown",
   "metadata": {},
   "source": [
    "One way to measure the similarity of two probability distributions is to compute the Jensen-Shannon-Divergence. It is guaranteed to lie in the interval [0, 1] where a higher value means a higher similarity."
   ]
  },
  {
   "cell_type": "code",
   "execution_count": 35,
   "metadata": {},
   "outputs": [],
   "source": [
    "def jensen_shannon_divergence(distr_1, distr_2):\n",
    "    return distance.jensenshannon(distr_1, distr_2) **2"
   ]
  },
  {
   "cell_type": "code",
   "execution_count": 36,
   "metadata": {},
   "outputs": [
    {
     "name": "stdout",
     "output_type": "stream",
     "text": [
      "[0.6931471805599454, 0.6931471805599454, 0.6931471805599454, 0.6931471805599454, 0.6931471805599454, 0.6931471805599454, 0.6931471805599454, 0.6931471805599454, 0.6931471805599454, 0.6931471805599454, 0.6931471805599454, 0.6931471805599454, 0.6931471805599454, 0.6931471805599454, 0.6931471805599454, 0.6931471805599454, 0.6931471805599454, 0.6931471805599454, 0.6931471805599454, 0.6931471805599454, 0.6931471805599454, 0.6931471805599454, 0.6931471805599454, 0.6931471805599454, 0.6931471805599454, 0.6931471805599454, 0.6931471805599454, 0.6931471805599454, 0.6931471805599454, 0.6931471805599454, 0.6931471805599454, 0.6931471805599454, 0.6931471805599454, 0.6931471805599454, 0.6931471805599454, 0.6931471805599454, 0.6931471805599454, 0.6931471805599454, 0.6931471805599454, 0.6931471805599454, 0.6931471805599454, 0.6931471805599454, 0.6931471805599454, 0.6931471805599454, 0.6931471805599454, 0.6931471805599454, 0.6931471805599454, 0.6931471805599454, 0.6931471805599454, 0.6931471805599454, 0.6931471805599454, 0.6931471805599454, 0.6931471805599454, 0.6931471805599454, 0.6931471805599454, 0.6931471805599454, 0.6931471805599454, 0.6931471805599454, 0.6931471805599454, 0.6931471805599454, 0.6931471805599454, 0.6931471805599454, 0.6931471805599454, 0.6931471805599454, 0.6931471805599454, 0.6931471805599454, 0.6931471805599454, 0.6931471805599454, 0.6931471805599454, 0.6931471805599454, 0.6931471805599454, 0.6931471805599454, 0.6931471805599454, 0.6931471805599454, 0.6931471805599454, 0.6931471805599454, 0.6931471805599454, 0.6931471805599454, 0.6931471805599454, 0.6931471805599454, 0.6931471805599454, 0.6931471805599454, 0.6931471805599454, 0.6931471805599454, 0.6931471805599454, 0.6931471805599454, 0.6931471805599454, 0.6931471805599454, 0.6931471805599454, 0.6931471805599454, 0.6931471805599454, 0.6931471805599454, 0.6931471805599454, 0.6931471805599454, 0.6931471805599454, 0.6931471805599454, 0.6931471805599454, 0.6931471805599454, 0.6931471805599454, 0.6931471805599454, 0.6931471805599454, 0.6931471805599454, 0.6931471805599454, 0.6931471805599454, 0.6931471805599454, 0.6931471805599454, 0.6931471805599454, 0.6931471805599454, 0.6931471805599454, 0.6931471805599454, 0.6931471805599454, 0.6931471805599454, 0.6931471805599454, 0.6931471805599454, 0.6931471805599454, 0.6931471805599454, 0.6931471805599454, 0.6931471805599454, 0.6931471805599454, 0.6931471805599454, 0.6931471805599454, 0.6931471805599454, 0.6931471805599454, 0.6931471805599454, 0.6931471805599454, 0.6931471805599454, 0.6931471805599454, 0.6931471805599454, 0.6931471805599454, 0.6931471805599454, 0.6931471805599454, 0.6931471805599454, 0.6931471805599454, 0.6931471805599454, 0.6931471805599454, 0.6931471805599454, 0.6931471805599454, 0.6931471805599454, 0.6931471805599454, 0.6931471805599454, 0.6931471805599454, 0.6931471805599454, 0.6931471805599454, 0.6931471805599454, 0.6931471805599454, 0.6931471805599454, 0.6931471805599454, 0.6931471805599454, 0.6931471805599454, 0.6931471805599454, 0.6931471805599454, 0.6931471805599454, 0.6931471805599454, 0.6931471805599454, 0.6931471805599454, 0.6931471805599454, 0.6931471805599454, 0.6931471805599454, 0.6931471805599454, 0.6931471805599454, 0.6931471805599454, 0.6931471805599454, 0.6931471805599454, 0.6931471805599454, 0.6931471805599454, 0.6931471805599454, 0.6931471805599454, 0.6931471805599454, 0.6931471805599454, 0.6931471805599454, 0.6931471805599454, 0.6931471805599454, 0.6931471805599454, 0.6931471805599454, 0.6931471805599454, 0.6931471805599454, 0.6931471805599454, 0.6931471805599454, 0.6931471805599454, 0.6931471805599454, 0.6931471805599454, 0.6931471805599454, 0.6931471805599454, 0.6931471805599454, 0.6931471805599454, 0.6931471805599454, 0.6931471805599454, 0.6931471805599454, 0.6931471805599454, 0.6931471805599454, 0.6931471805599454, 0.6931471805599454, 0.6931471805599454, 0.6931471805599454, 0.6931471805599454, 0.6931471805599454, 0.6931471805599454, 0.6931471805599454, 0.6931471805599454, 0.6931471805599454, 0.6931471805599454, 0.6931471805599454, 0.6931471805599454, 0.6931471805599454, 0.6931471805599454, 0.6931471805599454, 0.6931471805599454, 0.6931471805599454, 0.6931471805599454, 0.6931471805599454, 0.6931471805599454, 0.6931471805599454, 0.6931471805599454, 0.6931471805599454, 0.6931471805599454, 0.6931471805599454, 0.6931471805599454, 0.6931471805599454, 0.6931471805599454, 0.6931471805599454, 0.6931471805599454, 0.6931471805599454, 0.6931471805599454, 0.6931471805599454, 0.6931471805599454, 0.6931471805599454, 0.6931471805599454, 0.6931471805599454, 0.6931471805599454, 0.6931471805599454, 0.6931471805599454, 0.6931471805599454, 0.6931471805599454, 0.6931471805599454, 0.6931471805599454, 0.6931471805599454, 0.6931471805599454, 0.6931471805599454, 0.6931471805599454, 0.6931471805599454, 0.6931471805599454, 0.6931471805599454, 0.6931471805599454, 0.6931471805599454, 0.6931471805599454, 0.6931471805599454, 0.6931471805599454, 0.6931471805599454, 0.6931471805599454, 0.6931471805599454, 0.6931471805599454, 0.6931471805599454, 0.6931471805599454, 0.6931471805599454, 0.6931471805599454, 0.6931471805599454, 0.6931471805599454, 0.6931471805599454, 0.6931471805599454, 0.6931471805599454, 0.6931471805599454, 0.6931471805599454, 0.6931471805599454, 0.6931471805599454, 0.6931471805599454, 0.6931471805599454, 0.6931471805599454, 0.6931471805599454, 0.6931471805599454, 0.6931471805599454, 0.6931471805599454, 0.6931471805599454, 0.6931471805599454, 0.6931471805599454, 0.6931471805599454, 0.6931471805599454, 0.6931471805599454, 0.6931471805599454, 0.6931471805599454, 0.6931471805599454, 0.6931471805599454, 0.6931471805599454, 0.6931471805599454, 0.6931471805599454, 0.6931471805599454, 0.6931471805599454, 0.6931471805599454, 0.6931471805599454, 0.6931471805599454, 0.6931471805599454, 0.6931471805599454, 0.6931471805599454, 0.6931471805599454, 0.6931471805599454, 0.6931471805599454, 0.6931471805599454, 0.6931471805599454, 0.6931471805599454, 0.6931471805599454, 0.6931471805599454, 0.6931471805599454, 0.6931471805599454, 0.6931471805599454, 0.6931471805599454, 0.6931471805599454, 0.6931471805599454, 0.6931471805599454, 0.6931471805599454, 0.6931471805599454, 0.6931471805599454, 0.6931471805599454, 0.6931471805599454, 0.6931471805599454, 0.6931471805599454, 0.6931471805599454, 0.6931471805599454, 0.6931471805599454, 0.6931471805599454, 0.6931471805599454, 0.6931471805599454, 0.6931471805599454, 0.6931471805599454, 0.6931471805599454, 0.6931471805599454, 0.6931471805599454, 0.6931471805599454, 0.6931471805599454, 0.6931471805599454, 0.6931471805599454, 0.6931471805599454, 0.6931471805599454, 0.6931471805599454, 0.6931471805599454, 0.6931471805599454, 0.6931471805599454, 0.6931471805599454, 0.6931471805599454, 0.6931471805599454, 0.6931471805599454, 0.6931471805599454, 0.6931471805599454, 0.6931471805599454, 0.6931471805599454, 0.6931471805599454, 0.6931471805599454, 0.6931471805599454, 0.6931471805599454, 0.6931471805599454, 0.6931471805599454, 0.6931471805599454, 0.6931471805599454, 0.6931471805599454, 0.6931471805599454, 0.6931471805599454, 0.6931471805599454, 0.6931471805599454, 0.6931471805599454, 0.6931471805599454, 0.6931471805599454, 0.6931471805599454, 0.6931471805599454, 0.6931471805599454, 0.6931471805599454, 0.6931471805599454, 0.6931471805599454, 0.6931471805599454, 0.6931471805599454, 0.6931471805599454, 0.6931471805599454, 0.6931471805599454, 0.6931471805599454, 0.6931471805599454, 0.6931471805599454, 0.6931471805599454, 0.6931471805599454, 0.6931471805599454, 0.6931471805599454, 0.6931471805599454, 0.6931471805599454, 0.6931471805599454, 0.6931471805599454, 0.6931471805599454, 0.6931471805599454, 0.6931471805599454, 0.6931471805599454, 0.6931471805599454, 0.6931471805599454, 0.6931471805599454, 0.6931471805599454, 0.6931471805599454, 0.6931471805599454, 0.6931471805599454, 0.6931471805599454, 0.6931471805599454, 0.6931471805599454, 0.6931471805599454, 0.6931471805599454, 0.6931471805599454, 0.6931471805599454, 0.6931471805599454, 0.6931471805599454, 0.6931471805599454, 0.6931471805599454, 0.6931471805599454, 0.6931471805599454, 0.6931471805599454, 0.6931471805599454, 0.6931471805599454, 0.6931471805599454, 0.6931471805599454, 0.6931471805599454, 0.6931471805599454, 0.6931471805599454, 0.6931471805599454, 0.6931471805599454, 0.6931471805599454, 0.6931471805599454, 0.6931471805599454, 0.6931471805599454, 0.6931471805599454, 0.6931471805599454, 0.6931471805599454, 0.6931471805599454, 0.6931471805599454, 0.6931471805599454, 0.6931471805599454, 0.6931471805599454, 0.6931471805599454, 0.6931471805599454, 0.6931471805599454, 0.6931471805599454, 0.6931471805599454, 0.6931471805599454, 0.6931471805599454, 0.6931471805599454, 0.6931471805599454, 0.6931471805599454, 0.6931471805599454, 0.6931471805599454, 0.6931471805599454, 0.6931471805599454, 0.6931471805599454, 0.6931471805599454, 0.6931471805599454, 0.6931471805599454, 0.6931471805599454, 0.6931471805599454, 0.6931471805599454, 0.6931471805599454, 0.6931471805599454, 0.6931471805599454, 0.6931471805599454, 0.6931471805599454, 0.6931471805599454, 0.6931471805599454, 0.6931471805599454, 0.6931471805599454, 0.6931471805599454, 0.6931471805599454, 0.6931471805599454, 0.6931471805599454, 0.6931471805599454, 0.6931471805599454, 0.6931471805599454, 0.6931471805599454, 0.6931471805599454, 0.6931471805599454, 0.6931471805599454, 0.6931471805599454, 0.6931471805599454, 0.6931471805599454, 0.6931471805599454, 0.6931471805599454, 0.6931471805599454, 0.6931471805599454, 0.6931471805599454, 0.6931471805599454, 0.6931471805599454, 0.6931471805599454, 0.6931471805599454, 0.6931471805599454, 0.6931471805599454, 0.6931471805599454, 0.6931471805599454, 0.6931471805599454, 0.6931471805599454, 0.6931471805599454, 0.6931471805599454, 0.6931471805599454, 0.6931471805599454, 0.6931471805599454, 0.6931471805599454, 0.6931471805599454, 0.6931471805599454, 0.6931471805599454, 0.6931471805599454, 0.6931471805599454, 0.6931471805599454, 0.6931471805599454, 0.6931471805599454]\n"
     ]
    }
   ],
   "source": [
    "divergences = []\n",
    "for idx, channel_name_1 in enumerate(channel_to_topic.keys()):\n",
    "    topic_distr_1 = channel_to_topic[channel_name_1]\n",
    "    for channel_name_2 in list(channel_to_topic.keys())[idx + 1:]:\n",
    "        topic_distr_2 = channel_to_topic[channel_name_2]\n",
    "        js_div = jensen_shannon_divergence(topic_distr_1, topic_distr_2)\n",
    "        divergences.append(js_div)\n",
    "\n",
    "divergences.sort(reverse=True)\n",
    "print(divergences[:500])"
   ]
  },
  {
   "cell_type": "code",
   "execution_count": null,
   "metadata": {},
   "outputs": [],
   "source": []
  }
 ],
 "metadata": {
  "kernelspec": {
   "display_name": "Python 3",
   "language": "python",
   "name": "python3"
  },
  "language_info": {
   "codemirror_mode": {
    "name": "ipython",
    "version": 3
   },
   "file_extension": ".py",
   "mimetype": "text/x-python",
   "name": "python",
   "nbconvert_exporter": "python",
   "pygments_lexer": "ipython3",
   "version": "3.8.5"
  }
 },
 "nbformat": 4,
 "nbformat_minor": 4
}
