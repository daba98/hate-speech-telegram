{
  "nbformat": 4,
  "nbformat_minor": 0,
  "metadata": {
    "accelerator": "GPU",
    "colab": {
      "name": "TopicModelling.ipynb",
      "provenance": [],
      "collapsed_sections": [],
      "machine_shape": "hm"
    },
    "kernelspec": {
      "display_name": "Python 3",
      "name": "python3"
    },
    "language_info": {
      "name": "python"
    },
    "widgets": {
      "application/vnd.jupyter.widget-state+json": {
        "7d52357dc5dd48bea0b8a7404f654c30": {
          "model_module": "@jupyter-widgets/controls",
          "model_name": "HBoxModel",
          "state": {
            "_view_name": "HBoxView",
            "_dom_classes": [],
            "_model_name": "HBoxModel",
            "_view_module": "@jupyter-widgets/controls",
            "_model_module_version": "1.5.0",
            "_view_count": null,
            "_view_module_version": "1.5.0",
            "box_style": "",
            "layout": "IPY_MODEL_72422e9dbe754910af2ad48553b2ed33",
            "_model_module": "@jupyter-widgets/controls",
            "children": [
              "IPY_MODEL_4d0a072d99cc4ccdac253fae1e3e4032",
              "IPY_MODEL_f593ba96bb8946639d62e51b889b9904"
            ]
          }
        },
        "72422e9dbe754910af2ad48553b2ed33": {
          "model_module": "@jupyter-widgets/base",
          "model_name": "LayoutModel",
          "state": {
            "_view_name": "LayoutView",
            "grid_template_rows": null,
            "right": null,
            "justify_content": null,
            "_view_module": "@jupyter-widgets/base",
            "overflow": null,
            "_model_module_version": "1.2.0",
            "_view_count": null,
            "flex_flow": null,
            "width": null,
            "min_width": null,
            "border": null,
            "align_items": null,
            "bottom": null,
            "_model_module": "@jupyter-widgets/base",
            "top": null,
            "grid_column": null,
            "overflow_y": null,
            "overflow_x": null,
            "grid_auto_flow": null,
            "grid_area": null,
            "grid_template_columns": null,
            "flex": null,
            "_model_name": "LayoutModel",
            "justify_items": null,
            "grid_row": null,
            "max_height": null,
            "align_content": null,
            "visibility": null,
            "align_self": null,
            "height": null,
            "min_height": null,
            "padding": null,
            "grid_auto_rows": null,
            "grid_gap": null,
            "max_width": null,
            "order": null,
            "_view_module_version": "1.2.0",
            "grid_template_areas": null,
            "object_position": null,
            "object_fit": null,
            "grid_auto_columns": null,
            "margin": null,
            "display": null,
            "left": null
          }
        },
        "4d0a072d99cc4ccdac253fae1e3e4032": {
          "model_module": "@jupyter-widgets/controls",
          "model_name": "FloatProgressModel",
          "state": {
            "_view_name": "ProgressView",
            "style": "IPY_MODEL_0f41a15ecbd34971a38158eb64b21565",
            "_dom_classes": [],
            "description": "Batches: 100%",
            "_model_name": "FloatProgressModel",
            "bar_style": "success",
            "max": 3125,
            "_view_module": "@jupyter-widgets/controls",
            "_model_module_version": "1.5.0",
            "value": 3125,
            "_view_count": null,
            "_view_module_version": "1.5.0",
            "orientation": "horizontal",
            "min": 0,
            "description_tooltip": null,
            "_model_module": "@jupyter-widgets/controls",
            "layout": "IPY_MODEL_48ec00ecf8fc429786ca15b9b96c581a"
          }
        },
        "f593ba96bb8946639d62e51b889b9904": {
          "model_module": "@jupyter-widgets/controls",
          "model_name": "HTMLModel",
          "state": {
            "_view_name": "HTMLView",
            "style": "IPY_MODEL_e4ff8268b0c74d1da821879f8b0d5b49",
            "_dom_classes": [],
            "description": "",
            "_model_name": "HTMLModel",
            "placeholder": "​",
            "_view_module": "@jupyter-widgets/controls",
            "_model_module_version": "1.5.0",
            "value": " 3125/3125 [04:27&lt;00:00, 11.67it/s]",
            "_view_count": null,
            "_view_module_version": "1.5.0",
            "description_tooltip": null,
            "_model_module": "@jupyter-widgets/controls",
            "layout": "IPY_MODEL_0d0fc6d4746847579467f99b505d92af"
          }
        },
        "0f41a15ecbd34971a38158eb64b21565": {
          "model_module": "@jupyter-widgets/controls",
          "model_name": "ProgressStyleModel",
          "state": {
            "_view_name": "StyleView",
            "_model_name": "ProgressStyleModel",
            "description_width": "initial",
            "_view_module": "@jupyter-widgets/base",
            "_model_module_version": "1.5.0",
            "_view_count": null,
            "_view_module_version": "1.2.0",
            "bar_color": null,
            "_model_module": "@jupyter-widgets/controls"
          }
        },
        "48ec00ecf8fc429786ca15b9b96c581a": {
          "model_module": "@jupyter-widgets/base",
          "model_name": "LayoutModel",
          "state": {
            "_view_name": "LayoutView",
            "grid_template_rows": null,
            "right": null,
            "justify_content": null,
            "_view_module": "@jupyter-widgets/base",
            "overflow": null,
            "_model_module_version": "1.2.0",
            "_view_count": null,
            "flex_flow": null,
            "width": null,
            "min_width": null,
            "border": null,
            "align_items": null,
            "bottom": null,
            "_model_module": "@jupyter-widgets/base",
            "top": null,
            "grid_column": null,
            "overflow_y": null,
            "overflow_x": null,
            "grid_auto_flow": null,
            "grid_area": null,
            "grid_template_columns": null,
            "flex": null,
            "_model_name": "LayoutModel",
            "justify_items": null,
            "grid_row": null,
            "max_height": null,
            "align_content": null,
            "visibility": null,
            "align_self": null,
            "height": null,
            "min_height": null,
            "padding": null,
            "grid_auto_rows": null,
            "grid_gap": null,
            "max_width": null,
            "order": null,
            "_view_module_version": "1.2.0",
            "grid_template_areas": null,
            "object_position": null,
            "object_fit": null,
            "grid_auto_columns": null,
            "margin": null,
            "display": null,
            "left": null
          }
        },
        "e4ff8268b0c74d1da821879f8b0d5b49": {
          "model_module": "@jupyter-widgets/controls",
          "model_name": "DescriptionStyleModel",
          "state": {
            "_view_name": "StyleView",
            "_model_name": "DescriptionStyleModel",
            "description_width": "",
            "_view_module": "@jupyter-widgets/base",
            "_model_module_version": "1.5.0",
            "_view_count": null,
            "_view_module_version": "1.2.0",
            "_model_module": "@jupyter-widgets/controls"
          }
        },
        "0d0fc6d4746847579467f99b505d92af": {
          "model_module": "@jupyter-widgets/base",
          "model_name": "LayoutModel",
          "state": {
            "_view_name": "LayoutView",
            "grid_template_rows": null,
            "right": null,
            "justify_content": null,
            "_view_module": "@jupyter-widgets/base",
            "overflow": null,
            "_model_module_version": "1.2.0",
            "_view_count": null,
            "flex_flow": null,
            "width": null,
            "min_width": null,
            "border": null,
            "align_items": null,
            "bottom": null,
            "_model_module": "@jupyter-widgets/base",
            "top": null,
            "grid_column": null,
            "overflow_y": null,
            "overflow_x": null,
            "grid_auto_flow": null,
            "grid_area": null,
            "grid_template_columns": null,
            "flex": null,
            "_model_name": "LayoutModel",
            "justify_items": null,
            "grid_row": null,
            "max_height": null,
            "align_content": null,
            "visibility": null,
            "align_self": null,
            "height": null,
            "min_height": null,
            "padding": null,
            "grid_auto_rows": null,
            "grid_gap": null,
            "max_width": null,
            "order": null,
            "_view_module_version": "1.2.0",
            "grid_template_areas": null,
            "object_position": null,
            "object_fit": null,
            "grid_auto_columns": null,
            "margin": null,
            "display": null,
            "left": null
          }
        }
      }
    }
  },
  "cells": [
    {
      "cell_type": "code",
      "metadata": {
        "id": "L79QRZ0uZrlg"
      },
      "source": [
        "!pip install pymongo_ssh\n",
        "!pip install bertopic\n",
        "!pip install --upgrade numba"
      ],
      "execution_count": null,
      "outputs": []
    },
    {
      "cell_type": "markdown",
      "metadata": {
        "id": "JFeC0pJ9pYhB"
      },
      "source": [
        "# Hate specific Topic model\n",
        "We want to build a topic model that is trained only on messages that were classified as offensive by at least one of the binary classifiers. With this we can get an overview over the topics in the hateful Telegram messages."
      ]
    },
    {
      "cell_type": "code",
      "metadata": {
        "colab": {
          "base_uri": "https://localhost:8080/"
        },
        "id": "TvTI2ypJI22f",
        "outputId": "ab1e05ae-20ef-4e94-da91-6922fc9f87b2"
      },
      "source": [
        "import pymongo\n",
        "from pymongo_ssh import MongoSession\n",
        "import re\n",
        "from bertopic import BERTopic\n",
        "from sklearn.feature_extraction.text import CountVectorizer\n",
        "import nltk\n",
        "nltk.download('stopwords')\n",
        "from nltk.corpus import stopwords\n",
        "import numpy\n",
        "from random import shuffle\n",
        "german_stop_words = stopwords.words('german')"
      ],
      "execution_count": 1,
      "outputs": [
        {
          "output_type": "stream",
          "text": [
            "/usr/local/lib/python3.7/dist-packages/distributed/config.py:20: YAMLLoadWarning: calling yaml.load() without Loader=... is deprecated, as the default Loader is unsafe. Please read https://msg.pyyaml.org/load for full details.\n",
            "  defaults = yaml.load(f)\n"
          ],
          "name": "stderr"
        },
        {
          "output_type": "stream",
          "text": [
            "[nltk_data] Downloading package stopwords to /root/nltk_data...\n",
            "[nltk_data]   Unzipping corpora/stopwords.zip.\n"
          ],
          "name": "stdout"
        }
      ]
    },
    {
      "cell_type": "markdown",
      "metadata": {
        "id": "iB04Gv--pwuw"
      },
      "source": [
        "Again in order to connect to the MongoDB we need the private key which is located on my Google Drive, so we mount it in order to access the key."
      ]
    },
    {
      "cell_type": "code",
      "metadata": {
        "colab": {
          "base_uri": "https://localhost:8080/"
        },
        "id": "V3W-js7XMc4H",
        "outputId": "bb710b5e-977d-423f-c882-b99172206f3e"
      },
      "source": [
        "from google.colab import drive\n",
        "drive.mount('/content/drive')"
      ],
      "execution_count": 2,
      "outputs": [
        {
          "output_type": "stream",
          "text": [
            "Mounted at /content/drive\n"
          ],
          "name": "stdout"
        }
      ]
    },
    {
      "cell_type": "code",
      "metadata": {
        "colab": {
          "base_uri": "https://localhost:8080/"
        },
        "id": "U8cQMjYlwo8N",
        "outputId": "115a695a-715f-45d4-9151-66f540e1f48b"
      },
      "source": [
        "session = MongoSession(\n",
        "    host='138.246.233.159',\n",
        "    port=22,\n",
        "    user='ubuntu',\n",
        "    key='/content/drive/My Drive/NLP/id_hsd',\n",
        "    uri='mongodb://127.0.0.1:27017'\n",
        ")\n",
        "\n",
        "client = session.connection['telegram']\n",
        "\n",
        "print(client.collection_names())\n",
        "\n",
        "#session.stop()"
      ],
      "execution_count": 3,
      "outputs": [
        {
          "output_type": "stream",
          "text": [
            "['channels', 'errors', 'entities', 'users', 'messages']\n"
          ],
          "name": "stdout"
        }
      ]
    },
    {
      "cell_type": "markdown",
      "metadata": {
        "id": "ZTLQcqI-p-h2"
      },
      "source": [
        "We do the same preprocessing steps as for the other topic model"
      ]
    },
    {
      "cell_type": "code",
      "metadata": {
        "id": "q3jWVSUbYtYN"
      },
      "source": [
        "def append_link_preview(msg):\n",
        "  text = msg['text']\n",
        "  if msg['link_preview_title'] is not None:\n",
        "    text += \"\\n\" + msg['link_preview_title']\n",
        "  if msg['link_preview'] is not None:\n",
        "    text += \"\\n\" + msg['link_preview']\n",
        "  return text\n",
        "\n",
        "def replace_URL(string):\n",
        "    return re.sub('http[s]?://\\S+', '', string)\n",
        "\n",
        "def replace_username(string):\n",
        "    return re.sub('@\\S+', '<USERNAME>', string)\n",
        "\n",
        "def replace_URL_and_username(string):\n",
        "    return replace_username(replace_URL(string))"
      ],
      "execution_count": 4,
      "outputs": []
    },
    {
      "cell_type": "markdown",
      "metadata": {
        "id": "y5u2TujNqGcM"
      },
      "source": [
        "ow get all the messages that were classified as offensive by at least one of the binary classifiers."
      ]
    },
    {
      "cell_type": "code",
      "metadata": {
        "colab": {
          "base_uri": "https://localhost:8080/"
        },
        "id": "CrXC1BVEpF_U",
        "outputId": "d2820cfc-b910-42f8-bbac-d2f6a1ab448b"
      },
      "source": [
        "messages = client.messages\n",
        "query = {'$or': [{'hate_hasoc_1920.label': 'HOF'}, {'hate_germeval_1819.label': 'OFFENSE'}, {'hate_germeval_18.label': 'OFFENSE'}, {'hate_germeval_19.label': 'OFFENSE'}, \n",
        "                 {'hate_covid_2021.label': 'abusive'}, {'hate_hasoc_2020.label': 'HOF'}]}\n",
        "query_res = messages.find(query, {\"_id\": 0, \"text\": 1, \"link_preview_title\": 1, \"link_preview\": 1})\n",
        "message_list = []\n",
        "for msg in query_res:\n",
        "    if msg['text'] is not None:\n",
        "        text = append_link_preview(msg)\n",
        "        preprocessed_msg = replace_URL_and_username(text)\n",
        "        message_list.append(preprocessed_msg)\n",
        "print(len(message_list))"
      ],
      "execution_count": null,
      "outputs": [
        {
          "output_type": "stream",
          "text": [
            "1335370\n"
          ],
          "name": "stdout"
        }
      ]
    },
    {
      "cell_type": "markdown",
      "metadata": {
        "id": "mqktodgeqN5H"
      },
      "source": [
        "We randomly pick 100.000 of those messages, as this should suffice to get an overview over the relevant topics."
      ]
    },
    {
      "cell_type": "code",
      "metadata": {
        "colab": {
          "base_uri": "https://localhost:8080/"
        },
        "id": "G0R7QAgM3Rpr",
        "outputId": "058594c2-7b41-4fc8-b248-9ff482359472"
      },
      "source": [
        "shuffle(message_list)\n",
        "message_list = message_list[:100000]\n",
        "print(len(message_list))"
      ],
      "execution_count": null,
      "outputs": [
        {
          "output_type": "stream",
          "text": [
            "100000\n"
          ],
          "name": "stdout"
        }
      ]
    },
    {
      "cell_type": "code",
      "metadata": {
        "colab": {
          "base_uri": "https://localhost:8080/",
          "height": 134,
          "referenced_widgets": [
            "7d52357dc5dd48bea0b8a7404f654c30",
            "72422e9dbe754910af2ad48553b2ed33",
            "4d0a072d99cc4ccdac253fae1e3e4032",
            "f593ba96bb8946639d62e51b889b9904",
            "0f41a15ecbd34971a38158eb64b21565",
            "48ec00ecf8fc429786ca15b9b96c581a",
            "e4ff8268b0c74d1da821879f8b0d5b49",
            "0d0fc6d4746847579467f99b505d92af"
          ]
        },
        "id": "KmsOtGg6qUFP",
        "outputId": "95d275f9-0c50-47a9-990e-c1ea6fa50a4c"
      },
      "source": [
        "vectorizer_model = CountVectorizer(ngram_range=(1, 1), stop_words=german_stop_words, min_df=5)\n",
        "model = BERTopic(language = \"german\", nr_topics=30, calculate_probabilities = False, vectorizer_model=vectorizer_model, verbose=True)\n",
        "topics, probabilities = model.fit_transform(message_list)"
      ],
      "execution_count": null,
      "outputs": [
        {
          "output_type": "display_data",
          "data": {
            "application/vnd.jupyter.widget-view+json": {
              "model_id": "7d52357dc5dd48bea0b8a7404f654c30",
              "version_minor": 0,
              "version_major": 2
            },
            "text/plain": [
              "HBox(children=(FloatProgress(value=0.0, description='Batches', max=3125.0, style=ProgressStyle(description_wid…"
            ]
          },
          "metadata": {
            "tags": []
          }
        },
        {
          "output_type": "stream",
          "text": [
            "\n"
          ],
          "name": "stdout"
        },
        {
          "output_type": "stream",
          "text": [
            "2021-07-26 11:01:26,905 - BERTopic - Transformed documents to Embeddings\n",
            "2021-07-26 11:02:39,108 - BERTopic - Reduced dimensionality with UMAP\n",
            "2021-07-26 11:02:48,468 - BERTopic - Clustered UMAP embeddings with HDBSCAN\n",
            "2021-07-26 11:04:41,060 - BERTopic - Reduced number of topics from 1353 to 31\n"
          ],
          "name": "stderr"
        }
      ]
    },
    {
      "cell_type": "code",
      "metadata": {
        "colab": {
          "base_uri": "https://localhost:8080/"
        },
        "id": "iggsx1rznFNw",
        "outputId": "c796d332-4441-4691-95bb-666eb72f037d"
      },
      "source": [
        "print(model.get_topic_info())"
      ],
      "execution_count": null,
      "outputs": [
        {
          "output_type": "stream",
          "text": [
            "    Topic  Count                                               Name\n",
            "0      -1  48938                   -1_menschen_deutschland_wer_gibt\n",
            "1       0   6095                            0_töten_menschen_tv_wer\n",
            "2       1   3682            1_frauen_jeffrey_ghislaine_vergewaltigt\n",
            "3       2   2494                  2_schweden_menschen_comedian_geht\n",
            "4       3   2186                       3_jesus_herr_kirche_christus\n",
            "5       4   2158                     4_maske_masken_video_wikileaks\n",
            "6       5   2038                 5_grünen_klima_twitter_klimawandel\n",
            "7       6   1737                   6_rassismus_nazis_nazi_deutschen\n",
            "8       7   1728                 7_15_österreich_frankreich_italien\n",
            "9       8   1716               8_virus_coronavirus_infizierte_viren\n",
            "10      9   1620                      9_politiker_partei_trump_wahl\n",
            "11     10   1610                  10_flynn_mafia_militär_bundeswehr\n",
            "12     11   1486                           11_medien_report_22_2020\n",
            "13     12   1476  12_migranten_flüchtlinge_deutschland_griechenland\n",
            "14     13   1461                13_euro_geld_deutschland_milliarden\n",
            "15     14   1460               14_pharma_gesundheit_impfung_vitamin\n",
            "16     15   1438          15_lauterbach_channel_facebook_zuckerberg\n",
            "17     16   1417               16_liebe_licht_geheimnis_illuminaten\n",
            "18     17   1408                  17_israel_juden_jüdischen_muslime\n",
            "19     18   1395                      18_gates_telegram_bitcoin_app\n",
            "20     19   1303                            19_fox_wolf_hunde_tiere\n",
            "21     20   1278        20_angst_menschen_demonstranten_ungefiltert\n",
            "22     21   1257                                21_5g_pcr_2020_test\n",
            "23     22   1242             22_medien_newsticker_news_journalisten\n",
            "24     23   1202                        23_fbi_queen_johnson_andrew\n",
            "25     24   1181           24_satanisten_satanische_satan_pädophile\n",
            "26     25   1080             25_polizei_polizisten_spanien_polizist\n",
            "27     26   1043                  26_impfstoff_impfung_impfen_covid\n",
            "28     27   1008                 27_china_chinas_virus_chinesischen\n",
            "29     28    949                 28_hildmann_haare_schwurbel_pelosi\n",
            "30     29    914                     29_youtube_video_fehlt_netflix\n"
          ],
          "name": "stdout"
        }
      ]
    },
    {
      "cell_type": "code",
      "metadata": {
        "colab": {
          "base_uri": "https://localhost:8080/"
        },
        "id": "MNLjJ1UY6kQ6",
        "outputId": "040d174a-6c6f-4ec6-de95-32896e6aa98f"
      },
      "source": [
        "from pprint import pprint\n",
        "for topic in range(30):\n",
        "  if model.get_topic(topic):\n",
        "    pprint(model.get_topic(topic))"
      ],
      "execution_count": null,
      "outputs": [
        {
          "output_type": "stream",
          "text": [
            "[('töten', 0.009230086995506849),\n",
            " ('menschen', 0.008018424599633414),\n",
            " ('tv', 0.006851487611784234),\n",
            " ('wer', 0.0067570937172192185),\n",
            " ('video', 0.006571483343132763),\n",
            " ('deutschland', 0.006563307245331919),\n",
            " ('bitte', 0.006416698238914258),\n",
            " ('danke', 0.006387993673125308),\n",
            " ('10', 0.006125343867145579),\n",
            " ('news', 0.0060800781677246745)]\n",
            "[('frauen', 0.013557174332363617),\n",
            " ('jeffrey', 0.013138294379376995),\n",
            " ('ghislaine', 0.01283703245527329),\n",
            " ('vergewaltigt', 0.009335199949330584),\n",
            " ('omnia', 0.00891809690412216),\n",
            " ('ungefiltert', 0.008829675950621094),\n",
            " ('veritas', 0.008736047713169173),\n",
            " ('unzensiert', 0.0087155359618994),\n",
            " ('menschen', 0.007631741252736557),\n",
            " ('gibt', 0.006736460742984918)]\n",
            "[('schweden', 0.011802193336578068),\n",
            " ('menschen', 0.01121699043568975),\n",
            " ('comedian', 0.008495314337829645),\n",
            " ('geht', 0.008028140823563446),\n",
            " ('deutschland', 0.0078121689078576115),\n",
            " ('lachen', 0.007518371079459918),\n",
            " ('who', 0.00728592871740802),\n",
            " ('püppchen', 0.007094219180337766),\n",
            " ('video', 0.007075114730967553),\n",
            " ('info3', 0.007016314137752275)]\n",
            "[('jesus', 0.0249852381689979),\n",
            " ('herr', 0.01406508613283079),\n",
            " ('kirche', 0.0124000827732617),\n",
            " ('christus', 0.010218738055149425),\n",
            " ('jesuiten', 0.009302415453529856),\n",
            " ('herrn', 0.008422530803081283),\n",
            " ('patrioten', 0.007918660252124902),\n",
            " ('bibel', 0.00720814781670678),\n",
            " ('präsident', 0.006872038802272568),\n",
            " ('christen', 0.006849123240993836)]\n",
            "[('maske', 0.033737183474265756),\n",
            " ('masken', 0.028601118007442465),\n",
            " ('video', 0.01539884280976181),\n",
            " ('wikileaks', 0.010571959949530038),\n",
            " ('musik', 0.010007118976858844),\n",
            " ('wer', 0.009837555855155307),\n",
            " ('youtube', 0.009171565466776853),\n",
            " ('zeigt', 0.007783171853360284),\n",
            " ('gibt', 0.007597488238158429),\n",
            " ('menschen', 0.007339252877547575)]\n",
            "[('grünen', 0.024744830098925235),\n",
            " ('klima', 0.016906286748148917),\n",
            " ('twitter', 0.015837612447877885),\n",
            " ('klimawandel', 0.012635910081430267),\n",
            " ('grüne', 0.011564080093231108),\n",
            " ('co2', 0.011398130853771964),\n",
            " ('verschwörungstheorie', 0.008491683200816221),\n",
            " ('wahrheit', 0.008180735266369638),\n",
            " ('verschwörungstheorien', 0.006704127638636077),\n",
            " ('verschwörungstheoretiker', 0.006583742314389045)]\n",
            "[('rassismus', 0.02302556309605264),\n",
            " ('nazis', 0.020895723073016337),\n",
            " ('nazi', 0.018081406921899513),\n",
            " ('deutschen', 0.013850359892212043),\n",
            " ('schwarzen', 0.012919474877904822),\n",
            " ('faschismus', 0.012539269444323911),\n",
            " ('deutsche', 0.01155241040558907),\n",
            " ('deutschland', 0.00971764042537274),\n",
            " ('rassisten', 0.008334459128589223),\n",
            " ('rassistisch', 0.008234723602345681)]\n",
            "[('15', 0.028726446846382463),\n",
            " ('österreich', 0.017456814987930284),\n",
            " ('frankreich', 0.016552153977221786),\n",
            " ('italien', 0.01644935336860868),\n",
            " ('16', 0.014199175205313198),\n",
            " ('deutschland', 0.013845948114090205),\n",
            " ('sport', 0.011863457974003776),\n",
            " ('schweiz', 0.011842096202473952),\n",
            " ('europa', 0.01031705872323965),\n",
            " ('11', 0.00973103666830468)]\n",
            "[('virus', 0.036328168857126836),\n",
            " ('coronavirus', 0.0317718988933237),\n",
            " ('infizierte', 0.023658517712628706),\n",
            " ('viren', 0.012984801466135206),\n",
            " ('pandemie', 0.012255095033137544),\n",
            " ('deutschland', 0.010083996045953676),\n",
            " ('schweinegrippe', 0.008860112214098678),\n",
            " ('impfung', 0.007074892707776233),\n",
            " ('impfstoff', 0.006848138989853857),\n",
            " ('quarantäne', 0.006706637436313917)]\n",
            "[('politiker', 0.017386148610464527),\n",
            " ('partei', 0.014384036418356349),\n",
            " ('trump', 0.01406676637045124),\n",
            " ('wahl', 0.013349128600960264),\n",
            " ('demokraten', 0.012563984909746983),\n",
            " ('wähler', 0.009526997656003145),\n",
            " ('wahlbetrug', 0.009423730673063008),\n",
            " ('us', 0.008616071704847865),\n",
            " ('präsident', 0.008602947969532123),\n",
            " ('politik', 0.007836997738244164)]\n",
            "[('flynn', 0.01660153610199604),\n",
            " ('mafia', 0.01244562095409184),\n",
            " ('militär', 0.010923237838787),\n",
            " ('bundeswehr', 0.010580374449780758),\n",
            " ('soldaten', 0.009073575981867085),\n",
            " ('jfk', 0.008509524333480407),\n",
            " ('twitter', 0.007933637480156013),\n",
            " ('polizei', 0.0076494636692367645),\n",
            " ('menschenhandel', 0.007552845507465981),\n",
            " ('polizisten', 0.006979021098058084)]\n",
            "[('medien', 0.017690081720773344),\n",
            " ('report', 0.013500200583900165),\n",
            " ('22', 0.01253243551805251),\n",
            " ('2020', 0.011217933006186879),\n",
            " ('menschen', 0.011113705941849877),\n",
            " ('2021', 0.010599502269468453),\n",
            " ('berlin', 0.009856052663469025),\n",
            " ('austria', 0.009572004892327825),\n",
            " ('internationale', 0.009285115014147242),\n",
            " ('fakten', 0.009171101259689453)]\n",
            "[('migranten', 0.05799299710508844),\n",
            " ('flüchtlinge', 0.053131575312518615),\n",
            " ('deutschland', 0.02462349583055361),\n",
            " ('griechenland', 0.023046912208875364),\n",
            " ('migration', 0.0217355841720174),\n",
            " ('europa', 0.017492445343270983),\n",
            " ('flüchtlingen', 0.011786628581034155),\n",
            " ('deutsche', 0.011218025574015831),\n",
            " ('euro', 0.01033810864790301),\n",
            " ('einwanderer', 0.010093698532261608)]\n",
            "[('euro', 0.019490995716270484),\n",
            " ('geld', 0.016744037043272923),\n",
            " ('deutschland', 0.016091522111348566),\n",
            " ('milliarden', 0.01370992276725105),\n",
            " ('banken', 0.012434925658461155),\n",
            " ('deutsche', 0.01158388516962471),\n",
            " ('deutschen', 0.01152496046360552),\n",
            " ('wirtschaft', 0.01061730199432094),\n",
            " ('regierung', 0.007613765639758795),\n",
            " ('korruption', 0.007493778080753693)]\n",
            "[('pharma', 0.011255095316740633),\n",
            " ('gesundheit', 0.011008963301240203),\n",
            " ('impfung', 0.00962551169609954),\n",
            " ('vitamin', 0.009264818847242248),\n",
            " ('arzt', 0.00837831821853833),\n",
            " ('dr', 0.008359980916669311),\n",
            " ('fleisch', 0.0072624330261585705),\n",
            " ('pharmaindustrie', 0.007207064695260359),\n",
            " ('seniorin', 0.006511425058890645),\n",
            " ('senioren', 0.006464746205730366)]\n",
            "[('lauterbach', 0.037000629662914994),\n",
            " ('channel', 0.03254109032089874),\n",
            " ('facebook', 0.02470283936785765),\n",
            " ('zuckerberg', 0.012370393873080308),\n",
            " ('rothschild', 0.010470662871065295),\n",
            " ('berlin', 0.009230785174047643),\n",
            " ('videos', 0.009149025560848621),\n",
            " ('video', 0.008319562316778667),\n",
            " ('deutschland', 0.007848817898433445),\n",
            " ('youtube', 0.007735754275890066)]\n",
            "[('liebe', 0.04027010684264825),\n",
            " ('licht', 0.012287226377033),\n",
            " ('geheimnis', 0.011454919875601577),\n",
            " ('illuminaten', 0.009752427883340558),\n",
            " ('menschen', 0.009748249114583876),\n",
            " ('illuminati', 0.008761724766351007),\n",
            " ('seid', 0.007850172336755874),\n",
            " ('angel', 0.007272772304594574),\n",
            " ('wer', 0.006987101947375921),\n",
            " ('möchte', 0.006792818849678664)]\n",
            "[('israel', 0.04081590155361586),\n",
            " ('juden', 0.03644988003451477),\n",
            " ('jüdischen', 0.012524335195610017),\n",
            " ('muslime', 0.011700658225465912),\n",
            " ('islamisten', 0.01145435691290773),\n",
            " ('islamisierung', 0.009031200958195774),\n",
            " ('jüdische', 0.009012839346373563),\n",
            " ('zionisten', 0.008154823294163626),\n",
            " ('israels', 0.007839715591104255),\n",
            " ('islamische', 0.006120847081289646)]\n",
            "[('gates', 0.04031657372971403),\n",
            " ('telegram', 0.038070006656756396),\n",
            " ('bitcoin', 0.020533056499402635),\n",
            " ('app', 0.020386219233874077),\n",
            " ('username', 0.01786549502240924),\n",
            " ('google', 0.017295639883916334),\n",
            " ('spioniker', 0.014659575150281719),\n",
            " ('facebook', 0.010867169542926146),\n",
            " ('laptop', 0.008667600310562708),\n",
            " ('apps', 0.006969413466673495)]\n",
            "[('fox', 0.017808217743691405),\n",
            " ('wolf', 0.013115458825572992),\n",
            " ('hunde', 0.013086718666933912),\n",
            " ('tiere', 0.011662131236501422),\n",
            " ('hund', 0.01125898587949377),\n",
            " ('katze', 0.008943153091724552),\n",
            " ('katzen', 0.008344137235844925),\n",
            " ('atlantis', 0.0083015006113577),\n",
            " ('arktis', 0.007584845817825155),\n",
            " ('ratten', 0.006852457659364124)]\n",
            "[('angst', 0.02158163036447332),\n",
            " ('menschen', 0.012910321374117495),\n",
            " ('demonstranten', 0.01070951364318409),\n",
            " ('ungefiltert', 0.010060441746787333),\n",
            " ('vincit', 0.009981115989391559),\n",
            " ('veritas', 0.009777366903660415),\n",
            " ('gruppe', 0.009389057732454867),\n",
            " ('berlin', 0.009259099629851454),\n",
            " ('gibt', 0.007936245491856543),\n",
            " ('medien', 0.007858024475383163)]\n",
            "[('5g', 0.026780549903829918),\n",
            " ('pcr', 0.0195770089961206),\n",
            " ('2020', 0.01908036788081262),\n",
            " ('test', 0.018124481533859083),\n",
            " ('energie', 0.013757617133639762),\n",
            " ('planeten', 0.012224194708533137),\n",
            " ('tests', 0.01154811742167828),\n",
            " ('5d', 0.009980906571714403),\n",
            " ('ffp2', 0.009082481281675516),\n",
            " ('mehr', 0.007773839642727086)]\n",
            "[('medien', 0.020216846351053495),\n",
            " ('newsticker', 0.014004841367909093),\n",
            " ('news', 0.012128780660537006),\n",
            " ('journalisten', 0.011684017912616224),\n",
            " ('deutschland', 0.01065699251161198),\n",
            " ('propaganda', 0.00913775272865785),\n",
            " ('mainstream', 0.008850215627480696),\n",
            " ('deutsche', 0.007585717942202559),\n",
            " ('deutschen', 0.006992361435156497),\n",
            " ('journalismus', 0.006763057057756572)]\n",
            "[('fbi', 0.015758735990326567),\n",
            " ('queen', 0.013591134998145337),\n",
            " ('johnson', 0.012682062476948808),\n",
            " ('andrew', 0.011317804820547221),\n",
            " ('clinton', 0.011218546356585413),\n",
            " ('russland', 0.009865657245541642),\n",
            " ('boris', 0.009141648681862574),\n",
            " ('corona', 0.00871134741649786),\n",
            " ('dokumente', 0.008577126917844171),\n",
            " ('impfstoff', 0.006842630397548613)]\n",
            "[('satanisten', 0.01691209523625642),\n",
            " ('satanische', 0.013274983319412263),\n",
            " ('satan', 0.012443317439847336),\n",
            " ('pädophile', 0.011042885275588572),\n",
            " ('pädophilen', 0.010718781563045723),\n",
            " ('deutschland', 0.008793868253087695),\n",
            " ('satanischen', 0.007486489321921384),\n",
            " ('kindesmissbrauch', 0.007456727499326584),\n",
            " ('kinderpornografie', 0.007354891554960962),\n",
            " ('satanismus', 0.007063693232962038)]\n",
            "[('polizei', 0.05640228323551129),\n",
            " ('polizisten', 0.04545452618617218),\n",
            " ('spanien', 0.02344943235840351),\n",
            " ('polizist', 0.017685401519331276),\n",
            " ('argentinien', 0.01687956246410319),\n",
            " ('verhaftet', 0.01331896997908049),\n",
            " ('brasilien', 0.012146955785940225),\n",
            " ('chile', 0.009585543157583656),\n",
            " ('bolsonaro', 0.009259784121505197),\n",
            " ('venezuela', 0.007567820861217404)]\n",
            "[('impfstoff', 0.050543813902949215),\n",
            " ('impfung', 0.04504674754563914),\n",
            " ('impfen', 0.024832528552468293),\n",
            " ('covid', 0.022329264551639496),\n",
            " ('impfstoffe', 0.021927491807344983),\n",
            " ('impfungen', 0.021707329530019602),\n",
            " ('impfpflicht', 0.014464691440915337),\n",
            " ('virus', 0.014216387983376478),\n",
            " ('coronavirus', 0.011469244773439418),\n",
            " ('impfstoffen', 0.010761703688819265)]\n",
            "[('china', 0.08345188278607639),\n",
            " ('chinas', 0.026907612769999964),\n",
            " ('virus', 0.019537198845390385),\n",
            " ('chinesischen', 0.018530943974492436),\n",
            " ('chinesen', 0.014153749980351911),\n",
            " ('chinesische', 0.014125938990767011),\n",
            " ('kommunistischen', 0.01102293758213989),\n",
            " ('chinesischer', 0.010321070093697529),\n",
            " ('wuhan', 0.0081656781255752),\n",
            " ('partei', 0.007010884929618264)]\n",
            "[('hildmann', 0.03959211415435587),\n",
            " ('haare', 0.03855624986073612),\n",
            " ('schwurbel', 0.03740325674758114),\n",
            " ('pelosi', 0.02468255015582523),\n",
            " ('angela', 0.020657621977602545),\n",
            " ('haaren', 0.015935206685020162),\n",
            " ('menschen', 0.014123293434367088),\n",
            " ('gesicht', 0.009521060346603044),\n",
            " ('vegan', 0.009347217566546946),\n",
            " ('wendler', 0.009154905474243418)]\n",
            "[('youtube', 0.042812973107585126),\n",
            " ('video', 0.039861444763901174),\n",
            " ('fehlt', 0.017115441937380415),\n",
            " ('netflix', 0.016016530771772914),\n",
            " ('videos', 0.015678559609579763),\n",
            " ('gelöscht', 0.013199800862248381),\n",
            " ('trump', 0.012394072174347006),\n",
            " ('magazine', 0.011310573809080947),\n",
            " ('politisch', 0.01038959097501181),\n",
            " ('zuschauer', 0.009205905509742119)]\n"
          ],
          "name": "stdout"
        }
      ]
    },
    {
      "cell_type": "code",
      "metadata": {
        "id": "P_3J0wAihj89"
      },
      "source": [
        "model.save(\"/content/drive/My Drive/NLP/model_hate\")"
      ],
      "execution_count": null,
      "outputs": []
    },
    {
      "cell_type": "code",
      "metadata": {
        "id": "5SvOlNXxP4yP"
      },
      "source": [
        "model = BERTopic.load('/content/drive/My Drive/NLP/model_hate')"
      ],
      "execution_count": null,
      "outputs": []
    }
  ]
}